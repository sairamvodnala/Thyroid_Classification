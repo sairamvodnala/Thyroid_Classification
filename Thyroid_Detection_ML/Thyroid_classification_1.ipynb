{
  "nbformat": 4,
  "nbformat_minor": 0,
  "metadata": {
    "colab": {
      "name": "Thyroid_classification_1.ipynb",
      "provenance": [],
      "collapsed_sections": []
    },
    "kernelspec": {
      "name": "python3",
      "display_name": "Python 3"
    },
    "language_info": {
      "name": "python"
    }
  },
  "cells": [
    {
      "cell_type": "markdown",
      "metadata": {
        "id": "reKT1JcjkBK8"
      },
      "source": [
        "This Notebook proposes to build a classification methodology to predict the type of Thyroid based on the given training data. \n",
        "\n",
        "I Downloaded the datasets from the datasource ‘UCI Machine Learning Repository’\n",
        "\n",
        "https://archive.ics.uci.edu/ml/datasets/Thyroid+Disease\n",
        "*   allhyper.data\n",
        "\n",
        "*   allhyper.test\n",
        "\n",
        "*   allhypo.data\n",
        "\n",
        "\n",
        "*   allhypo.test\n",
        "\n",
        "*   ann-test.data\n",
        "*   ann-train.data\n",
        "\n",
        "\n",
        "\n",
        "*   hypothyroid.data\n",
        "*   sick-euthyroid.data\n",
        "\n",
        "*   thyroid0387.data\n",
        "\n",
        "**CONTENTS**\n",
        "\n",
        "1.Merging Data\n",
        "\n",
        "2.Data PreProcessing\n",
        "\n",
        "3.Training of The Classifiers\n",
        "\n",
        "4.Model selection and saving\n",
        "\n",
        "\n",
        "\n",
        "\n",
        "\n",
        "\n",
        "\n",
        "\n",
        "\n",
        "\n",
        "\n"
      ]
    },
    {
      "cell_type": "code",
      "metadata": {
        "id": "CNX_pDIVo1vv"
      },
      "source": [
        "#Installation of required libraries (Python 3)\n",
        "\n",
        "import numpy as np # linear algebra\n",
        "import pandas as pd # data processing, CSV file I/O (e.g. pd.read_csv)\n",
        "from sklearn.model_selection import train_test_split\n",
        "from sklearn.metrics import confusion_matrix\n",
        "from  xgboost import XGBClassifier\n",
        "from sklearn.neural_network import MLPClassifier\n",
        "from imblearn.over_sampling import SMOTE\n",
        "from sklearn.utils import resample\n",
        "from scipy import stats\n",
        "from sklearn import metrics\n",
        "from sklearn.tree import DecisionTreeClassifier \n",
        "from sklearn.neighbors import KNeighborsClassifier\n",
        "from sklearn.preprocessing import LabelEncoder\n",
        "from sklearn.ensemble import RandomForestClassifier\n",
        "from sklearn.ensemble import ExtraTreesClassifier\n",
        "\n",
        "\n",
        "import os"
      ],
      "execution_count": 6,
      "outputs": []
    },
    {
      "cell_type": "markdown",
      "metadata": {
        "id": "OHonm_3VqOmJ"
      },
      "source": [
        "**1: Data Integration**\n",
        "\n",
        "Merging these different datasets."
      ]
    },
    {
      "cell_type": "markdown",
      "metadata": {
        "id": "OQ7jjVbDyzyW"
      },
      "source": [
        "A: Importing 'allhyper' and 'allhypo' datasets"
      ]
    },
    {
      "cell_type": "code",
      "metadata": {
        "id": "WZKMFWGc2deL",
        "colab": {
          "base_uri": "https://localhost:8080/",
          "height": 383
        },
        "outputId": "7fbf6bff-4f3e-4bc9-86fe-723ddbbd3e4f"
      },
      "source": [
        "allHyperTEST = pd.read_csv(\"allhyperTEST.CSV\")\n",
        "allHyperDATA = pd.read_csv(\"allhyperDATA.CSV\")\n",
        "allHypoTEST = pd.read_csv(\"allhypoTEST.csv\")\n",
        "allHypoDATA = pd.read_csv(\"allhypoDATA.CSV\")\n",
        "\n",
        "display(allHypoTEST.head(10))\n"
      ],
      "execution_count": 7,
      "outputs": [
        {
          "output_type": "display_data",
          "data": {
            "text/html": [
              "<div>\n",
              "<style scoped>\n",
              "    .dataframe tbody tr th:only-of-type {\n",
              "        vertical-align: middle;\n",
              "    }\n",
              "\n",
              "    .dataframe tbody tr th {\n",
              "        vertical-align: top;\n",
              "    }\n",
              "\n",
              "    .dataframe thead th {\n",
              "        text-align: right;\n",
              "    }\n",
              "</style>\n",
              "<table border=\"1\" class=\"dataframe\">\n",
              "  <thead>\n",
              "    <tr style=\"text-align: right;\">\n",
              "      <th></th>\n",
              "      <th>age</th>\n",
              "      <th>sex</th>\n",
              "      <th>on_thyroxine</th>\n",
              "      <th>query_on_thyroxine</th>\n",
              "      <th>on_antithyroid_medication</th>\n",
              "      <th>sick</th>\n",
              "      <th>pregnant</th>\n",
              "      <th>thyroid_surgery</th>\n",
              "      <th>I131_treatment</th>\n",
              "      <th>query_hypothyroid</th>\n",
              "      <th>query_hyperthyroid</th>\n",
              "      <th>lithium</th>\n",
              "      <th>goitre</th>\n",
              "      <th>tumor</th>\n",
              "      <th>hypopituitary</th>\n",
              "      <th>psych</th>\n",
              "      <th>TSH_measured</th>\n",
              "      <th>TSH</th>\n",
              "      <th>T3_measured</th>\n",
              "      <th>T3</th>\n",
              "      <th>TT4_measured</th>\n",
              "      <th>TT4</th>\n",
              "      <th>T4U_measured</th>\n",
              "      <th>T4U</th>\n",
              "      <th>FTI_measured</th>\n",
              "      <th>FTI</th>\n",
              "      <th>TBG_measured</th>\n",
              "      <th>TBG</th>\n",
              "      <th>referral_source</th>\n",
              "      <th>Target</th>\n",
              "      <th>ID</th>\n",
              "    </tr>\n",
              "  </thead>\n",
              "  <tbody>\n",
              "    <tr>\n",
              "      <th>0</th>\n",
              "      <td>35</td>\n",
              "      <td>F</td>\n",
              "      <td>f</td>\n",
              "      <td>f</td>\n",
              "      <td>f</td>\n",
              "      <td>f</td>\n",
              "      <td>f</td>\n",
              "      <td>f</td>\n",
              "      <td>f</td>\n",
              "      <td>f</td>\n",
              "      <td>f</td>\n",
              "      <td>f</td>\n",
              "      <td>f</td>\n",
              "      <td>f</td>\n",
              "      <td>f</td>\n",
              "      <td>f</td>\n",
              "      <td>f</td>\n",
              "      <td>?</td>\n",
              "      <td>f</td>\n",
              "      <td>?</td>\n",
              "      <td>f</td>\n",
              "      <td>?</td>\n",
              "      <td>f</td>\n",
              "      <td>?</td>\n",
              "      <td>f</td>\n",
              "      <td>?</td>\n",
              "      <td>f</td>\n",
              "      <td>?</td>\n",
              "      <td>other</td>\n",
              "      <td>negative</td>\n",
              "      <td>219</td>\n",
              "    </tr>\n",
              "    <tr>\n",
              "      <th>1</th>\n",
              "      <td>63</td>\n",
              "      <td>M</td>\n",
              "      <td>f</td>\n",
              "      <td>f</td>\n",
              "      <td>f</td>\n",
              "      <td>f</td>\n",
              "      <td>f</td>\n",
              "      <td>f</td>\n",
              "      <td>f</td>\n",
              "      <td>f</td>\n",
              "      <td>f</td>\n",
              "      <td>f</td>\n",
              "      <td>f</td>\n",
              "      <td>f</td>\n",
              "      <td>f</td>\n",
              "      <td>f</td>\n",
              "      <td>t</td>\n",
              "      <td>3.5</td>\n",
              "      <td>t</td>\n",
              "      <td>2.5</td>\n",
              "      <td>t</td>\n",
              "      <td>108</td>\n",
              "      <td>t</td>\n",
              "      <td>0.96</td>\n",
              "      <td>t</td>\n",
              "      <td>113</td>\n",
              "      <td>f</td>\n",
              "      <td>?</td>\n",
              "      <td>SVI</td>\n",
              "      <td>negative</td>\n",
              "      <td>2059</td>\n",
              "    </tr>\n",
              "    <tr>\n",
              "      <th>2</th>\n",
              "      <td>25</td>\n",
              "      <td>F</td>\n",
              "      <td>f</td>\n",
              "      <td>f</td>\n",
              "      <td>f</td>\n",
              "      <td>f</td>\n",
              "      <td>f</td>\n",
              "      <td>f</td>\n",
              "      <td>f</td>\n",
              "      <td>f</td>\n",
              "      <td>f</td>\n",
              "      <td>f</td>\n",
              "      <td>f</td>\n",
              "      <td>f</td>\n",
              "      <td>f</td>\n",
              "      <td>f</td>\n",
              "      <td>t</td>\n",
              "      <td>4.6</td>\n",
              "      <td>t</td>\n",
              "      <td>2.4</td>\n",
              "      <td>t</td>\n",
              "      <td>61</td>\n",
              "      <td>t</td>\n",
              "      <td>0.82</td>\n",
              "      <td>t</td>\n",
              "      <td>75</td>\n",
              "      <td>f</td>\n",
              "      <td>?</td>\n",
              "      <td>SVHD</td>\n",
              "      <td>negative</td>\n",
              "      <td>399</td>\n",
              "    </tr>\n",
              "    <tr>\n",
              "      <th>3</th>\n",
              "      <td>53</td>\n",
              "      <td>F</td>\n",
              "      <td>f</td>\n",
              "      <td>f</td>\n",
              "      <td>f</td>\n",
              "      <td>f</td>\n",
              "      <td>f</td>\n",
              "      <td>f</td>\n",
              "      <td>f</td>\n",
              "      <td>t</td>\n",
              "      <td>f</td>\n",
              "      <td>f</td>\n",
              "      <td>f</td>\n",
              "      <td>f</td>\n",
              "      <td>f</td>\n",
              "      <td>f</td>\n",
              "      <td>t</td>\n",
              "      <td>0.25</td>\n",
              "      <td>t</td>\n",
              "      <td>2.1</td>\n",
              "      <td>t</td>\n",
              "      <td>145</td>\n",
              "      <td>t</td>\n",
              "      <td>1.03</td>\n",
              "      <td>t</td>\n",
              "      <td>141</td>\n",
              "      <td>f</td>\n",
              "      <td>?</td>\n",
              "      <td>other</td>\n",
              "      <td>negative</td>\n",
              "      <td>1911</td>\n",
              "    </tr>\n",
              "    <tr>\n",
              "      <th>4</th>\n",
              "      <td>92</td>\n",
              "      <td>F</td>\n",
              "      <td>f</td>\n",
              "      <td>f</td>\n",
              "      <td>f</td>\n",
              "      <td>f</td>\n",
              "      <td>f</td>\n",
              "      <td>f</td>\n",
              "      <td>f</td>\n",
              "      <td>f</td>\n",
              "      <td>f</td>\n",
              "      <td>f</td>\n",
              "      <td>f</td>\n",
              "      <td>f</td>\n",
              "      <td>f</td>\n",
              "      <td>f</td>\n",
              "      <td>t</td>\n",
              "      <td>0.7</td>\n",
              "      <td>t</td>\n",
              "      <td>1.3</td>\n",
              "      <td>t</td>\n",
              "      <td>120</td>\n",
              "      <td>t</td>\n",
              "      <td>0.84</td>\n",
              "      <td>t</td>\n",
              "      <td>143</td>\n",
              "      <td>f</td>\n",
              "      <td>?</td>\n",
              "      <td>SVI</td>\n",
              "      <td>negative</td>\n",
              "      <td>487</td>\n",
              "    </tr>\n",
              "    <tr>\n",
              "      <th>5</th>\n",
              "      <td>67</td>\n",
              "      <td>M</td>\n",
              "      <td>f</td>\n",
              "      <td>f</td>\n",
              "      <td>f</td>\n",
              "      <td>f</td>\n",
              "      <td>f</td>\n",
              "      <td>f</td>\n",
              "      <td>f</td>\n",
              "      <td>t</td>\n",
              "      <td>f</td>\n",
              "      <td>f</td>\n",
              "      <td>f</td>\n",
              "      <td>f</td>\n",
              "      <td>f</td>\n",
              "      <td>f</td>\n",
              "      <td>t</td>\n",
              "      <td>0.81</td>\n",
              "      <td>f</td>\n",
              "      <td>?</td>\n",
              "      <td>t</td>\n",
              "      <td>84</td>\n",
              "      <td>t</td>\n",
              "      <td>0.83</td>\n",
              "      <td>t</td>\n",
              "      <td>101</td>\n",
              "      <td>f</td>\n",
              "      <td>?</td>\n",
              "      <td>other</td>\n",
              "      <td>negative</td>\n",
              "      <td>1234</td>\n",
              "    </tr>\n",
              "    <tr>\n",
              "      <th>6</th>\n",
              "      <td>60</td>\n",
              "      <td>F</td>\n",
              "      <td>f</td>\n",
              "      <td>f</td>\n",
              "      <td>f</td>\n",
              "      <td>f</td>\n",
              "      <td>f</td>\n",
              "      <td>f</td>\n",
              "      <td>f</td>\n",
              "      <td>f</td>\n",
              "      <td>f</td>\n",
              "      <td>f</td>\n",
              "      <td>f</td>\n",
              "      <td>f</td>\n",
              "      <td>f</td>\n",
              "      <td>f</td>\n",
              "      <td>t</td>\n",
              "      <td>1.2</td>\n",
              "      <td>t</td>\n",
              "      <td>2.6</td>\n",
              "      <td>t</td>\n",
              "      <td>117</td>\n",
              "      <td>t</td>\n",
              "      <td>1.31</td>\n",
              "      <td>t</td>\n",
              "      <td>90</td>\n",
              "      <td>f</td>\n",
              "      <td>?</td>\n",
              "      <td>other</td>\n",
              "      <td>negative</td>\n",
              "      <td>1113</td>\n",
              "    </tr>\n",
              "    <tr>\n",
              "      <th>7</th>\n",
              "      <td>60</td>\n",
              "      <td>F</td>\n",
              "      <td>f</td>\n",
              "      <td>f</td>\n",
              "      <td>f</td>\n",
              "      <td>f</td>\n",
              "      <td>f</td>\n",
              "      <td>f</td>\n",
              "      <td>f</td>\n",
              "      <td>f</td>\n",
              "      <td>f</td>\n",
              "      <td>f</td>\n",
              "      <td>f</td>\n",
              "      <td>f</td>\n",
              "      <td>f</td>\n",
              "      <td>f</td>\n",
              "      <td>t</td>\n",
              "      <td>27</td>\n",
              "      <td>t</td>\n",
              "      <td>1.8</td>\n",
              "      <td>t</td>\n",
              "      <td>65</td>\n",
              "      <td>t</td>\n",
              "      <td>0.99</td>\n",
              "      <td>t</td>\n",
              "      <td>66</td>\n",
              "      <td>f</td>\n",
              "      <td>?</td>\n",
              "      <td>SVI</td>\n",
              "      <td>compensated_hypothyroid</td>\n",
              "      <td>1344</td>\n",
              "    </tr>\n",
              "    <tr>\n",
              "      <th>8</th>\n",
              "      <td>48</td>\n",
              "      <td>F</td>\n",
              "      <td>f</td>\n",
              "      <td>f</td>\n",
              "      <td>f</td>\n",
              "      <td>f</td>\n",
              "      <td>f</td>\n",
              "      <td>f</td>\n",
              "      <td>f</td>\n",
              "      <td>f</td>\n",
              "      <td>f</td>\n",
              "      <td>f</td>\n",
              "      <td>f</td>\n",
              "      <td>f</td>\n",
              "      <td>f</td>\n",
              "      <td>f</td>\n",
              "      <td>t</td>\n",
              "      <td>2.8</td>\n",
              "      <td>f</td>\n",
              "      <td>?</td>\n",
              "      <td>t</td>\n",
              "      <td>112</td>\n",
              "      <td>t</td>\n",
              "      <td>0.92</td>\n",
              "      <td>t</td>\n",
              "      <td>121</td>\n",
              "      <td>f</td>\n",
              "      <td>?</td>\n",
              "      <td>other</td>\n",
              "      <td>negative</td>\n",
              "      <td>2758</td>\n",
              "    </tr>\n",
              "    <tr>\n",
              "      <th>9</th>\n",
              "      <td>27</td>\n",
              "      <td>F</td>\n",
              "      <td>f</td>\n",
              "      <td>f</td>\n",
              "      <td>f</td>\n",
              "      <td>f</td>\n",
              "      <td>f</td>\n",
              "      <td>f</td>\n",
              "      <td>f</td>\n",
              "      <td>f</td>\n",
              "      <td>f</td>\n",
              "      <td>f</td>\n",
              "      <td>f</td>\n",
              "      <td>f</td>\n",
              "      <td>f</td>\n",
              "      <td>f</td>\n",
              "      <td>t</td>\n",
              "      <td>2.6</td>\n",
              "      <td>t</td>\n",
              "      <td>2.2</td>\n",
              "      <td>t</td>\n",
              "      <td>94</td>\n",
              "      <td>t</td>\n",
              "      <td>0.89</td>\n",
              "      <td>t</td>\n",
              "      <td>106</td>\n",
              "      <td>f</td>\n",
              "      <td>?</td>\n",
              "      <td>SVI</td>\n",
              "      <td>negative</td>\n",
              "      <td>3230</td>\n",
              "    </tr>\n",
              "  </tbody>\n",
              "</table>\n",
              "</div>"
            ],
            "text/plain": [
              "   age sex on_thyroxine  ... referral_source                   Target    ID\n",
              "0   35   F            f  ...           other                 negative   219\n",
              "1   63   M            f  ...             SVI                 negative  2059\n",
              "2   25   F            f  ...            SVHD                 negative   399\n",
              "3   53   F            f  ...           other                 negative  1911\n",
              "4   92   F            f  ...             SVI                 negative   487\n",
              "5   67   M            f  ...           other                 negative  1234\n",
              "6   60   F            f  ...           other                 negative  1113\n",
              "7   60   F            f  ...             SVI  compensated_hypothyroid  1344\n",
              "8   48   F            f  ...           other                 negative  2758\n",
              "9   27   F            f  ...             SVI                 negative  3230\n",
              "\n",
              "[10 rows x 31 columns]"
            ]
          },
          "metadata": {}
        }
      ]
    },
    {
      "cell_type": "markdown",
      "metadata": {
        "id": "4MNbhfJ_0dzF"
      },
      "source": [
        "Checking For any instances(duplicate values) with the same value of 'ID' attribute"
      ]
    },
    {
      "cell_type": "code",
      "metadata": {
        "colab": {
          "base_uri": "https://localhost:8080/"
        },
        "id": "E5KGEcrez_kB",
        "outputId": "ab210fdf-db0a-4a78-9040-c1f5513aa4c5"
      },
      "source": [
        "allHyperDATA.duplicated('ID')\n",
        "allHyperTEST.duplicated('ID')\n",
        "allHypoDATA.duplicated('ID')\n",
        "allHypoTEST.duplicated('ID')\n"
      ],
      "execution_count": 8,
      "outputs": [
        {
          "output_type": "execute_result",
          "data": {
            "text/plain": [
              "0      False\n",
              "1      False\n",
              "2      False\n",
              "3      False\n",
              "4      False\n",
              "       ...  \n",
              "967    False\n",
              "968    False\n",
              "969    False\n",
              "970    False\n",
              "971    False\n",
              "Length: 972, dtype: bool"
            ]
          },
          "metadata": {},
          "execution_count": 8
        }
      ]
    },
    {
      "cell_type": "markdown",
      "metadata": {
        "id": "DcH9jQXn5sVF"
      },
      "source": [
        "Drop the 'ID' attribute as, it is not helpful for the classification"
      ]
    },
    {
      "cell_type": "code",
      "metadata": {
        "id": "PqaFL_1k3n3b"
      },
      "source": [
        "del allHyperTEST[\"ID\"]\n",
        "del allHyperDATA[\"ID\"]\n",
        "del allHypoTEST[\"ID\"]\n",
        "del allHypoDATA[\"ID\"]"
      ],
      "execution_count": 9,
      "outputs": []
    },
    {
      "cell_type": "markdown",
      "metadata": {
        "id": "I_qs_dHd6-cl"
      },
      "source": [
        "Converting all different instances other than negative in 'Target' column into hyperthyroid or hypothyroid from  allhyper and allhypo datasets.\n"
      ]
    },
    {
      "cell_type": "code",
      "metadata": {
        "colab": {
          "base_uri": "https://localhost:8080/"
        },
        "id": "bZzcJbHq6Yl4",
        "outputId": "eed93382-9b5f-4bba-d1e6-5988e5358fae"
      },
      "source": [
        "def notCorrect_TargetFilter(df,correct_Target,target):\n",
        "    df = df[df.Target.isin(correct_Target)]\n",
        "    df.replace(correct_Target,target,inplace = True)\n",
        "    return df\n",
        "    \n",
        "allHyperTEST = notCorrect_TargetFilter(allHyperTEST,[\"hyperthyroid\",\"T3_toxic\",\"goitre\",\"secondary_toxic\"],\"hyperthyroid\")\n",
        "allHyperDATA = notCorrect_TargetFilter(allHyperDATA,[\"hyperthyroid\",\"T3_toxic\",\"goitre\",\"secondary_toxic\"],\"hyperthyroid\")\n",
        "allHypoTEST = notCorrect_TargetFilter(allHypoTEST,[\"hypothyroid\", \"primary_hypothyroid\", \"compensated_hypothyroid\", \"secondary_hypothyroid\"],\"hypothyroid\")\n",
        "allHypoDATA = notCorrect_TargetFilter(allHypoDATA,[\"hypothyroid\", \"primary_hypothyroid\", \"compensated_hypothyroid\", \"secondary_hypothyroid\"],\"hypothyroid\")"
      ],
      "execution_count": 10,
      "outputs": [
        {
          "output_type": "stream",
          "name": "stderr",
          "text": [
            "/usr/local/lib/python3.7/dist-packages/pandas/core/frame.py:4389: SettingWithCopyWarning: \n",
            "A value is trying to be set on a copy of a slice from a DataFrame\n",
            "\n",
            "See the caveats in the documentation: https://pandas.pydata.org/pandas-docs/stable/user_guide/indexing.html#returning-a-view-versus-a-copy\n",
            "  method=method,\n"
          ]
        }
      ]
    },
    {
      "cell_type": "markdown",
      "metadata": {
        "id": "dolPqFhA9YOx"
      },
      "source": [
        "Merging allhyper(2) and allhypo(2) datasets"
      ]
    },
    {
      "cell_type": "code",
      "metadata": {
        "colab": {
          "base_uri": "https://localhost:8080/",
          "height": 34
        },
        "id": "zhjKTs2C8l26",
        "outputId": "f8d068a3-5093-4509-eb0a-bb136cd1cd60"
      },
      "source": [
        "allDataset = pd.concat([allHyperTEST,allHyperDATA,allHypoTEST,allHypoDATA], ignore_index = True)\n",
        "display(allDataset.shape)"
      ],
      "execution_count": 11,
      "outputs": [
        {
          "output_type": "display_data",
          "data": {
            "text/plain": [
              "(393, 30)"
            ]
          },
          "metadata": {}
        }
      ]
    },
    {
      "cell_type": "markdown",
      "metadata": {
        "id": "pb2Oqsq6-kgD"
      },
      "source": [
        "B:Now importing 'thyroid0387' dataset "
      ]
    },
    {
      "cell_type": "code",
      "metadata": {
        "colab": {
          "base_uri": "https://localhost:8080/",
          "height": 383
        },
        "id": "ZXCnQ4kP-mhV",
        "outputId": "5eaed45e-ca64-48ea-f02a-39d19e8abab0"
      },
      "source": [
        "thyroid0387 = pd.read_csv(\"thyroid0387.CSV\")\n",
        "display(thyroid0387.head(10))\n"
      ],
      "execution_count": 12,
      "outputs": [
        {
          "output_type": "display_data",
          "data": {
            "text/html": [
              "<div>\n",
              "<style scoped>\n",
              "    .dataframe tbody tr th:only-of-type {\n",
              "        vertical-align: middle;\n",
              "    }\n",
              "\n",
              "    .dataframe tbody tr th {\n",
              "        vertical-align: top;\n",
              "    }\n",
              "\n",
              "    .dataframe thead th {\n",
              "        text-align: right;\n",
              "    }\n",
              "</style>\n",
              "<table border=\"1\" class=\"dataframe\">\n",
              "  <thead>\n",
              "    <tr style=\"text-align: right;\">\n",
              "      <th></th>\n",
              "      <th>age</th>\n",
              "      <th>sex</th>\n",
              "      <th>on_thyroxine</th>\n",
              "      <th>query_on_thyroxine</th>\n",
              "      <th>on_antithyroid_medication</th>\n",
              "      <th>sick</th>\n",
              "      <th>pregnant</th>\n",
              "      <th>thyroid_surgery</th>\n",
              "      <th>I131_treatment</th>\n",
              "      <th>query_hypothyroid</th>\n",
              "      <th>query_hyperthyroid</th>\n",
              "      <th>lithium</th>\n",
              "      <th>goitre</th>\n",
              "      <th>tumor</th>\n",
              "      <th>hypopituitary</th>\n",
              "      <th>psych</th>\n",
              "      <th>TSH_measured</th>\n",
              "      <th>TSH</th>\n",
              "      <th>T3_measured</th>\n",
              "      <th>T3</th>\n",
              "      <th>TT4_measured</th>\n",
              "      <th>TT4</th>\n",
              "      <th>T4U_measured</th>\n",
              "      <th>T4U</th>\n",
              "      <th>FTI_measured</th>\n",
              "      <th>FTI</th>\n",
              "      <th>TBG_measured</th>\n",
              "      <th>TBG</th>\n",
              "      <th>referral_source</th>\n",
              "      <th>Target</th>\n",
              "      <th>ID</th>\n",
              "    </tr>\n",
              "  </thead>\n",
              "  <tbody>\n",
              "    <tr>\n",
              "      <th>0</th>\n",
              "      <td>29</td>\n",
              "      <td>F</td>\n",
              "      <td>f</td>\n",
              "      <td>f</td>\n",
              "      <td>f</td>\n",
              "      <td>f</td>\n",
              "      <td>f</td>\n",
              "      <td>f</td>\n",
              "      <td>f</td>\n",
              "      <td>t</td>\n",
              "      <td>f</td>\n",
              "      <td>f</td>\n",
              "      <td>f</td>\n",
              "      <td>f</td>\n",
              "      <td>f</td>\n",
              "      <td>f</td>\n",
              "      <td>t</td>\n",
              "      <td>0.3</td>\n",
              "      <td>f</td>\n",
              "      <td>?</td>\n",
              "      <td>f</td>\n",
              "      <td>?</td>\n",
              "      <td>f</td>\n",
              "      <td>?</td>\n",
              "      <td>f</td>\n",
              "      <td>?</td>\n",
              "      <td>f</td>\n",
              "      <td>?</td>\n",
              "      <td>other</td>\n",
              "      <td>-</td>\n",
              "      <td>840801013</td>\n",
              "    </tr>\n",
              "    <tr>\n",
              "      <th>1</th>\n",
              "      <td>29</td>\n",
              "      <td>F</td>\n",
              "      <td>f</td>\n",
              "      <td>f</td>\n",
              "      <td>f</td>\n",
              "      <td>f</td>\n",
              "      <td>f</td>\n",
              "      <td>f</td>\n",
              "      <td>f</td>\n",
              "      <td>f</td>\n",
              "      <td>f</td>\n",
              "      <td>f</td>\n",
              "      <td>f</td>\n",
              "      <td>f</td>\n",
              "      <td>f</td>\n",
              "      <td>f</td>\n",
              "      <td>t</td>\n",
              "      <td>1.6</td>\n",
              "      <td>t</td>\n",
              "      <td>1.9</td>\n",
              "      <td>t</td>\n",
              "      <td>128</td>\n",
              "      <td>f</td>\n",
              "      <td>?</td>\n",
              "      <td>f</td>\n",
              "      <td>?</td>\n",
              "      <td>f</td>\n",
              "      <td>?</td>\n",
              "      <td>other</td>\n",
              "      <td>-</td>\n",
              "      <td>840801014</td>\n",
              "    </tr>\n",
              "    <tr>\n",
              "      <th>2</th>\n",
              "      <td>41</td>\n",
              "      <td>F</td>\n",
              "      <td>f</td>\n",
              "      <td>f</td>\n",
              "      <td>f</td>\n",
              "      <td>f</td>\n",
              "      <td>f</td>\n",
              "      <td>f</td>\n",
              "      <td>f</td>\n",
              "      <td>f</td>\n",
              "      <td>t</td>\n",
              "      <td>f</td>\n",
              "      <td>f</td>\n",
              "      <td>f</td>\n",
              "      <td>f</td>\n",
              "      <td>f</td>\n",
              "      <td>f</td>\n",
              "      <td>?</td>\n",
              "      <td>f</td>\n",
              "      <td>?</td>\n",
              "      <td>f</td>\n",
              "      <td>?</td>\n",
              "      <td>f</td>\n",
              "      <td>?</td>\n",
              "      <td>f</td>\n",
              "      <td>?</td>\n",
              "      <td>t</td>\n",
              "      <td>11</td>\n",
              "      <td>other</td>\n",
              "      <td>-</td>\n",
              "      <td>840801042</td>\n",
              "    </tr>\n",
              "    <tr>\n",
              "      <th>3</th>\n",
              "      <td>36</td>\n",
              "      <td>F</td>\n",
              "      <td>f</td>\n",
              "      <td>f</td>\n",
              "      <td>f</td>\n",
              "      <td>f</td>\n",
              "      <td>f</td>\n",
              "      <td>f</td>\n",
              "      <td>f</td>\n",
              "      <td>f</td>\n",
              "      <td>f</td>\n",
              "      <td>f</td>\n",
              "      <td>f</td>\n",
              "      <td>f</td>\n",
              "      <td>f</td>\n",
              "      <td>f</td>\n",
              "      <td>f</td>\n",
              "      <td>?</td>\n",
              "      <td>f</td>\n",
              "      <td>?</td>\n",
              "      <td>f</td>\n",
              "      <td>?</td>\n",
              "      <td>f</td>\n",
              "      <td>?</td>\n",
              "      <td>f</td>\n",
              "      <td>?</td>\n",
              "      <td>t</td>\n",
              "      <td>26</td>\n",
              "      <td>other</td>\n",
              "      <td>-</td>\n",
              "      <td>840803046</td>\n",
              "    </tr>\n",
              "    <tr>\n",
              "      <th>4</th>\n",
              "      <td>32</td>\n",
              "      <td>F</td>\n",
              "      <td>f</td>\n",
              "      <td>f</td>\n",
              "      <td>f</td>\n",
              "      <td>f</td>\n",
              "      <td>f</td>\n",
              "      <td>f</td>\n",
              "      <td>f</td>\n",
              "      <td>f</td>\n",
              "      <td>f</td>\n",
              "      <td>f</td>\n",
              "      <td>f</td>\n",
              "      <td>f</td>\n",
              "      <td>f</td>\n",
              "      <td>f</td>\n",
              "      <td>f</td>\n",
              "      <td>?</td>\n",
              "      <td>f</td>\n",
              "      <td>?</td>\n",
              "      <td>f</td>\n",
              "      <td>?</td>\n",
              "      <td>f</td>\n",
              "      <td>?</td>\n",
              "      <td>f</td>\n",
              "      <td>?</td>\n",
              "      <td>t</td>\n",
              "      <td>36</td>\n",
              "      <td>other</td>\n",
              "      <td>S</td>\n",
              "      <td>840803047</td>\n",
              "    </tr>\n",
              "    <tr>\n",
              "      <th>5</th>\n",
              "      <td>60</td>\n",
              "      <td>F</td>\n",
              "      <td>f</td>\n",
              "      <td>f</td>\n",
              "      <td>f</td>\n",
              "      <td>f</td>\n",
              "      <td>f</td>\n",
              "      <td>f</td>\n",
              "      <td>f</td>\n",
              "      <td>f</td>\n",
              "      <td>f</td>\n",
              "      <td>f</td>\n",
              "      <td>f</td>\n",
              "      <td>f</td>\n",
              "      <td>f</td>\n",
              "      <td>f</td>\n",
              "      <td>f</td>\n",
              "      <td>?</td>\n",
              "      <td>f</td>\n",
              "      <td>?</td>\n",
              "      <td>f</td>\n",
              "      <td>?</td>\n",
              "      <td>f</td>\n",
              "      <td>?</td>\n",
              "      <td>f</td>\n",
              "      <td>?</td>\n",
              "      <td>t</td>\n",
              "      <td>26</td>\n",
              "      <td>other</td>\n",
              "      <td>-</td>\n",
              "      <td>840803048</td>\n",
              "    </tr>\n",
              "    <tr>\n",
              "      <th>6</th>\n",
              "      <td>77</td>\n",
              "      <td>F</td>\n",
              "      <td>f</td>\n",
              "      <td>f</td>\n",
              "      <td>f</td>\n",
              "      <td>f</td>\n",
              "      <td>f</td>\n",
              "      <td>f</td>\n",
              "      <td>f</td>\n",
              "      <td>f</td>\n",
              "      <td>f</td>\n",
              "      <td>f</td>\n",
              "      <td>f</td>\n",
              "      <td>f</td>\n",
              "      <td>f</td>\n",
              "      <td>f</td>\n",
              "      <td>f</td>\n",
              "      <td>?</td>\n",
              "      <td>f</td>\n",
              "      <td>?</td>\n",
              "      <td>f</td>\n",
              "      <td>?</td>\n",
              "      <td>f</td>\n",
              "      <td>?</td>\n",
              "      <td>f</td>\n",
              "      <td>?</td>\n",
              "      <td>t</td>\n",
              "      <td>21</td>\n",
              "      <td>other</td>\n",
              "      <td>-</td>\n",
              "      <td>840803068</td>\n",
              "    </tr>\n",
              "    <tr>\n",
              "      <th>7</th>\n",
              "      <td>28</td>\n",
              "      <td>F</td>\n",
              "      <td>f</td>\n",
              "      <td>f</td>\n",
              "      <td>f</td>\n",
              "      <td>f</td>\n",
              "      <td>f</td>\n",
              "      <td>f</td>\n",
              "      <td>f</td>\n",
              "      <td>f</td>\n",
              "      <td>f</td>\n",
              "      <td>f</td>\n",
              "      <td>f</td>\n",
              "      <td>f</td>\n",
              "      <td>f</td>\n",
              "      <td>f</td>\n",
              "      <td>t</td>\n",
              "      <td>0.7</td>\n",
              "      <td>t</td>\n",
              "      <td>2.6</td>\n",
              "      <td>t</td>\n",
              "      <td>116</td>\n",
              "      <td>f</td>\n",
              "      <td>?</td>\n",
              "      <td>f</td>\n",
              "      <td>?</td>\n",
              "      <td>f</td>\n",
              "      <td>?</td>\n",
              "      <td>SVI</td>\n",
              "      <td>-</td>\n",
              "      <td>840807019</td>\n",
              "    </tr>\n",
              "    <tr>\n",
              "      <th>8</th>\n",
              "      <td>28</td>\n",
              "      <td>F</td>\n",
              "      <td>f</td>\n",
              "      <td>f</td>\n",
              "      <td>f</td>\n",
              "      <td>f</td>\n",
              "      <td>f</td>\n",
              "      <td>f</td>\n",
              "      <td>f</td>\n",
              "      <td>f</td>\n",
              "      <td>f</td>\n",
              "      <td>f</td>\n",
              "      <td>f</td>\n",
              "      <td>f</td>\n",
              "      <td>f</td>\n",
              "      <td>f</td>\n",
              "      <td>t</td>\n",
              "      <td>1.2</td>\n",
              "      <td>t</td>\n",
              "      <td>1.8</td>\n",
              "      <td>t</td>\n",
              "      <td>76</td>\n",
              "      <td>f</td>\n",
              "      <td>?</td>\n",
              "      <td>f</td>\n",
              "      <td>?</td>\n",
              "      <td>f</td>\n",
              "      <td>?</td>\n",
              "      <td>other</td>\n",
              "      <td>-</td>\n",
              "      <td>840808060</td>\n",
              "    </tr>\n",
              "    <tr>\n",
              "      <th>9</th>\n",
              "      <td>28</td>\n",
              "      <td>F</td>\n",
              "      <td>f</td>\n",
              "      <td>f</td>\n",
              "      <td>f</td>\n",
              "      <td>f</td>\n",
              "      <td>f</td>\n",
              "      <td>f</td>\n",
              "      <td>f</td>\n",
              "      <td>f</td>\n",
              "      <td>f</td>\n",
              "      <td>f</td>\n",
              "      <td>f</td>\n",
              "      <td>f</td>\n",
              "      <td>f</td>\n",
              "      <td>f</td>\n",
              "      <td>t</td>\n",
              "      <td>1.9</td>\n",
              "      <td>t</td>\n",
              "      <td>1.7</td>\n",
              "      <td>t</td>\n",
              "      <td>83</td>\n",
              "      <td>f</td>\n",
              "      <td>?</td>\n",
              "      <td>f</td>\n",
              "      <td>?</td>\n",
              "      <td>f</td>\n",
              "      <td>?</td>\n",
              "      <td>other</td>\n",
              "      <td>-</td>\n",
              "      <td>840808073</td>\n",
              "    </tr>\n",
              "  </tbody>\n",
              "</table>\n",
              "</div>"
            ],
            "text/plain": [
              "   age sex on_thyroxine  ... referral_source Target         ID\n",
              "0   29   F            f  ...           other      -  840801013\n",
              "1   29   F            f  ...           other      -  840801014\n",
              "2   41   F            f  ...           other      -  840801042\n",
              "3   36   F            f  ...           other      -  840803046\n",
              "4   32   F            f  ...           other      S  840803047\n",
              "5   60   F            f  ...           other      -  840803048\n",
              "6   77   F            f  ...           other      -  840803068\n",
              "7   28   F            f  ...             SVI      -  840807019\n",
              "8   28   F            f  ...           other      -  840808060\n",
              "9   28   F            f  ...           other      -  840808073\n",
              "\n",
              "[10 rows x 31 columns]"
            ]
          },
          "metadata": {}
        }
      ]
    },
    {
      "cell_type": "markdown",
      "metadata": {
        "id": "jExDlpR6_hjf"
      },
      "source": [
        "removing 'ID' attribute (since,it is not useful for the classification )"
      ]
    },
    {
      "cell_type": "code",
      "metadata": {
        "id": "MC0EXd9G_5XX"
      },
      "source": [
        "del thyroid0387[\"ID\"]"
      ],
      "execution_count": 13,
      "outputs": []
    },
    {
      "cell_type": "markdown",
      "metadata": {
        "id": "Y2ZC-B4VAXoy"
      },
      "source": [
        "converting categorical values into numerical by mapping"
      ]
    },
    {
      "cell_type": "code",
      "metadata": {
        "id": "9lAn0lkTB4ts"
      },
      "source": [
        "thyroid0387['sex'] = thyroid0387['sex'].map({'F': 1, 'M': 0})\n"
      ],
      "execution_count": 14,
      "outputs": []
    },
    {
      "cell_type": "markdown",
      "metadata": {
        "id": "4rtXegGT_9c1"
      },
      "source": [
        "This dataset has different classes: A,B,C,D,E,F,G,H.\n",
        "\n",
        "replacing A,B,C,D with hyperthyroid\n",
        "\n",
        "replacing E,F,G,H with hypothyroid\n",
        "\n",
        "All the others should be considered as 'negative'."
      ]
    },
    {
      "cell_type": "code",
      "metadata": {
        "id": "AIVhha8Y_8N8"
      },
      "source": [
        "thyroid0387.replace(['A','B','C','D'],\"hyperthyroid\",inplace = True)\n",
        "thyroid0387.replace(['E','F','G','H'],\"hypothyroid\",inplace = True)\n",
        "\n",
        "for value in set(thyroid0387['Target']):\n",
        "    if(value != 'hypothyroid' and value != 'hyperthyroid'):\n",
        "        thyroid0387.replace(value,'negative',inplace=True)"
      ],
      "execution_count": 15,
      "outputs": []
    },
    {
      "cell_type": "markdown",
      "metadata": {
        "id": "UbSSALKUDGyY"
      },
      "source": [
        "C:Now Importing 'hypothyroid' dataset"
      ]
    },
    {
      "cell_type": "code",
      "metadata": {
        "colab": {
          "base_uri": "https://localhost:8080/",
          "height": 418
        },
        "id": "3eDHlTErDBHR",
        "outputId": "e115c1dc-5f7e-4ade-f1c9-6c0300e1be66"
      },
      "source": [
        "hypothyroid = pd.read_csv(\"hypothyroid.csv\")\n",
        "display(hypothyroid.shape)\n",
        "display(hypothyroid.head(10))"
      ],
      "execution_count": 16,
      "outputs": [
        {
          "output_type": "display_data",
          "data": {
            "text/plain": [
              "(3163, 26)"
            ]
          },
          "metadata": {}
        },
        {
          "output_type": "display_data",
          "data": {
            "text/html": [
              "<div>\n",
              "<style scoped>\n",
              "    .dataframe tbody tr th:only-of-type {\n",
              "        vertical-align: middle;\n",
              "    }\n",
              "\n",
              "    .dataframe tbody tr th {\n",
              "        vertical-align: top;\n",
              "    }\n",
              "\n",
              "    .dataframe thead th {\n",
              "        text-align: right;\n",
              "    }\n",
              "</style>\n",
              "<table border=\"1\" class=\"dataframe\">\n",
              "  <thead>\n",
              "    <tr style=\"text-align: right;\">\n",
              "      <th></th>\n",
              "      <th>Unnamed: 0</th>\n",
              "      <th>Age</th>\n",
              "      <th>Sex</th>\n",
              "      <th>on_thyroxine</th>\n",
              "      <th>query_on_thyroxine</th>\n",
              "      <th>on_antithyroid_medication</th>\n",
              "      <th>thyroid_surgery</th>\n",
              "      <th>query_hypothyroid</th>\n",
              "      <th>query_hyperthyroid</th>\n",
              "      <th>pregnant</th>\n",
              "      <th>sick</th>\n",
              "      <th>tumor</th>\n",
              "      <th>lithium</th>\n",
              "      <th>goitre</th>\n",
              "      <th>TSH_measured</th>\n",
              "      <th>TSH</th>\n",
              "      <th>T3_measured</th>\n",
              "      <th>T3</th>\n",
              "      <th>TT4_measured</th>\n",
              "      <th>TT4</th>\n",
              "      <th>T4U_measured</th>\n",
              "      <th>T4U</th>\n",
              "      <th>FTI_measured</th>\n",
              "      <th>FTI</th>\n",
              "      <th>TBG_measured</th>\n",
              "      <th>TBG</th>\n",
              "    </tr>\n",
              "  </thead>\n",
              "  <tbody>\n",
              "    <tr>\n",
              "      <th>0</th>\n",
              "      <td>hypothyroid</td>\n",
              "      <td>72</td>\n",
              "      <td>M</td>\n",
              "      <td>f</td>\n",
              "      <td>f</td>\n",
              "      <td>f</td>\n",
              "      <td>f</td>\n",
              "      <td>f</td>\n",
              "      <td>f</td>\n",
              "      <td>f</td>\n",
              "      <td>f</td>\n",
              "      <td>f</td>\n",
              "      <td>f</td>\n",
              "      <td>f</td>\n",
              "      <td>y</td>\n",
              "      <td>30</td>\n",
              "      <td>y</td>\n",
              "      <td>0.6</td>\n",
              "      <td>y</td>\n",
              "      <td>15</td>\n",
              "      <td>y</td>\n",
              "      <td>1.48</td>\n",
              "      <td>y</td>\n",
              "      <td>10</td>\n",
              "      <td>n</td>\n",
              "      <td>?</td>\n",
              "    </tr>\n",
              "    <tr>\n",
              "      <th>1</th>\n",
              "      <td>hypothyroid</td>\n",
              "      <td>15</td>\n",
              "      <td>F</td>\n",
              "      <td>t</td>\n",
              "      <td>f</td>\n",
              "      <td>f</td>\n",
              "      <td>f</td>\n",
              "      <td>f</td>\n",
              "      <td>f</td>\n",
              "      <td>f</td>\n",
              "      <td>f</td>\n",
              "      <td>f</td>\n",
              "      <td>f</td>\n",
              "      <td>f</td>\n",
              "      <td>y</td>\n",
              "      <td>145</td>\n",
              "      <td>y</td>\n",
              "      <td>1.7</td>\n",
              "      <td>y</td>\n",
              "      <td>19</td>\n",
              "      <td>y</td>\n",
              "      <td>1.13</td>\n",
              "      <td>y</td>\n",
              "      <td>17</td>\n",
              "      <td>n</td>\n",
              "      <td>?</td>\n",
              "    </tr>\n",
              "    <tr>\n",
              "      <th>2</th>\n",
              "      <td>hypothyroid</td>\n",
              "      <td>24</td>\n",
              "      <td>M</td>\n",
              "      <td>f</td>\n",
              "      <td>f</td>\n",
              "      <td>f</td>\n",
              "      <td>f</td>\n",
              "      <td>f</td>\n",
              "      <td>f</td>\n",
              "      <td>f</td>\n",
              "      <td>f</td>\n",
              "      <td>f</td>\n",
              "      <td>f</td>\n",
              "      <td>f</td>\n",
              "      <td>y</td>\n",
              "      <td>0</td>\n",
              "      <td>y</td>\n",
              "      <td>0.2</td>\n",
              "      <td>y</td>\n",
              "      <td>4</td>\n",
              "      <td>y</td>\n",
              "      <td>1</td>\n",
              "      <td>y</td>\n",
              "      <td>0</td>\n",
              "      <td>n</td>\n",
              "      <td>?</td>\n",
              "    </tr>\n",
              "    <tr>\n",
              "      <th>3</th>\n",
              "      <td>hypothyroid</td>\n",
              "      <td>24</td>\n",
              "      <td>F</td>\n",
              "      <td>f</td>\n",
              "      <td>f</td>\n",
              "      <td>f</td>\n",
              "      <td>f</td>\n",
              "      <td>f</td>\n",
              "      <td>f</td>\n",
              "      <td>f</td>\n",
              "      <td>f</td>\n",
              "      <td>f</td>\n",
              "      <td>f</td>\n",
              "      <td>f</td>\n",
              "      <td>y</td>\n",
              "      <td>430</td>\n",
              "      <td>y</td>\n",
              "      <td>0.4</td>\n",
              "      <td>y</td>\n",
              "      <td>6</td>\n",
              "      <td>y</td>\n",
              "      <td>1.04</td>\n",
              "      <td>y</td>\n",
              "      <td>6</td>\n",
              "      <td>n</td>\n",
              "      <td>?</td>\n",
              "    </tr>\n",
              "    <tr>\n",
              "      <th>4</th>\n",
              "      <td>hypothyroid</td>\n",
              "      <td>77</td>\n",
              "      <td>M</td>\n",
              "      <td>f</td>\n",
              "      <td>f</td>\n",
              "      <td>f</td>\n",
              "      <td>f</td>\n",
              "      <td>f</td>\n",
              "      <td>f</td>\n",
              "      <td>f</td>\n",
              "      <td>f</td>\n",
              "      <td>f</td>\n",
              "      <td>f</td>\n",
              "      <td>f</td>\n",
              "      <td>y</td>\n",
              "      <td>7.3</td>\n",
              "      <td>y</td>\n",
              "      <td>1.2</td>\n",
              "      <td>y</td>\n",
              "      <td>57</td>\n",
              "      <td>y</td>\n",
              "      <td>1.28</td>\n",
              "      <td>y</td>\n",
              "      <td>44</td>\n",
              "      <td>n</td>\n",
              "      <td>?</td>\n",
              "    </tr>\n",
              "    <tr>\n",
              "      <th>5</th>\n",
              "      <td>hypothyroid</td>\n",
              "      <td>85</td>\n",
              "      <td>F</td>\n",
              "      <td>f</td>\n",
              "      <td>f</td>\n",
              "      <td>f</td>\n",
              "      <td>f</td>\n",
              "      <td>t</td>\n",
              "      <td>f</td>\n",
              "      <td>f</td>\n",
              "      <td>f</td>\n",
              "      <td>f</td>\n",
              "      <td>f</td>\n",
              "      <td>f</td>\n",
              "      <td>y</td>\n",
              "      <td>138</td>\n",
              "      <td>y</td>\n",
              "      <td>1.1</td>\n",
              "      <td>y</td>\n",
              "      <td>27</td>\n",
              "      <td>y</td>\n",
              "      <td>1.19</td>\n",
              "      <td>y</td>\n",
              "      <td>23</td>\n",
              "      <td>n</td>\n",
              "      <td>?</td>\n",
              "    </tr>\n",
              "    <tr>\n",
              "      <th>6</th>\n",
              "      <td>hypothyroid</td>\n",
              "      <td>64</td>\n",
              "      <td>F</td>\n",
              "      <td>f</td>\n",
              "      <td>f</td>\n",
              "      <td>f</td>\n",
              "      <td>t</td>\n",
              "      <td>f</td>\n",
              "      <td>f</td>\n",
              "      <td>f</td>\n",
              "      <td>f</td>\n",
              "      <td>f</td>\n",
              "      <td>f</td>\n",
              "      <td>f</td>\n",
              "      <td>y</td>\n",
              "      <td>7.7</td>\n",
              "      <td>y</td>\n",
              "      <td>1.3</td>\n",
              "      <td>y</td>\n",
              "      <td>54</td>\n",
              "      <td>y</td>\n",
              "      <td>0.86</td>\n",
              "      <td>y</td>\n",
              "      <td>63</td>\n",
              "      <td>n</td>\n",
              "      <td>?</td>\n",
              "    </tr>\n",
              "    <tr>\n",
              "      <th>7</th>\n",
              "      <td>hypothyroid</td>\n",
              "      <td>72</td>\n",
              "      <td>F</td>\n",
              "      <td>f</td>\n",
              "      <td>f</td>\n",
              "      <td>f</td>\n",
              "      <td>f</td>\n",
              "      <td>f</td>\n",
              "      <td>f</td>\n",
              "      <td>f</td>\n",
              "      <td>f</td>\n",
              "      <td>f</td>\n",
              "      <td>f</td>\n",
              "      <td>f</td>\n",
              "      <td>y</td>\n",
              "      <td>21</td>\n",
              "      <td>y</td>\n",
              "      <td>1.9</td>\n",
              "      <td>y</td>\n",
              "      <td>34</td>\n",
              "      <td>y</td>\n",
              "      <td>1.05</td>\n",
              "      <td>y</td>\n",
              "      <td>32</td>\n",
              "      <td>n</td>\n",
              "      <td>?</td>\n",
              "    </tr>\n",
              "    <tr>\n",
              "      <th>8</th>\n",
              "      <td>hypothyroid</td>\n",
              "      <td>20</td>\n",
              "      <td>F</td>\n",
              "      <td>f</td>\n",
              "      <td>f</td>\n",
              "      <td>f</td>\n",
              "      <td>f</td>\n",
              "      <td>t</td>\n",
              "      <td>f</td>\n",
              "      <td>f</td>\n",
              "      <td>f</td>\n",
              "      <td>f</td>\n",
              "      <td>f</td>\n",
              "      <td>f</td>\n",
              "      <td>y</td>\n",
              "      <td>92</td>\n",
              "      <td>n</td>\n",
              "      <td>?</td>\n",
              "      <td>y</td>\n",
              "      <td>39</td>\n",
              "      <td>y</td>\n",
              "      <td>1.21</td>\n",
              "      <td>y</td>\n",
              "      <td>32</td>\n",
              "      <td>n</td>\n",
              "      <td>?</td>\n",
              "    </tr>\n",
              "    <tr>\n",
              "      <th>9</th>\n",
              "      <td>hypothyroid</td>\n",
              "      <td>42</td>\n",
              "      <td>F</td>\n",
              "      <td>f</td>\n",
              "      <td>f</td>\n",
              "      <td>f</td>\n",
              "      <td>f</td>\n",
              "      <td>f</td>\n",
              "      <td>f</td>\n",
              "      <td>f</td>\n",
              "      <td>f</td>\n",
              "      <td>f</td>\n",
              "      <td>f</td>\n",
              "      <td>f</td>\n",
              "      <td>y</td>\n",
              "      <td>48</td>\n",
              "      <td>n</td>\n",
              "      <td>?</td>\n",
              "      <td>y</td>\n",
              "      <td>7.6</td>\n",
              "      <td>y</td>\n",
              "      <td>1.02</td>\n",
              "      <td>y</td>\n",
              "      <td>7.5</td>\n",
              "      <td>n</td>\n",
              "      <td>?</td>\n",
              "    </tr>\n",
              "  </tbody>\n",
              "</table>\n",
              "</div>"
            ],
            "text/plain": [
              "    Unnamed: 0 Age Sex on_thyroxine  ... FTI_measured  FTI TBG_measured TBG\n",
              "0  hypothyroid  72   M            f  ...            y   10            n   ?\n",
              "1  hypothyroid  15   F            t  ...            y   17            n   ?\n",
              "2  hypothyroid  24   M            f  ...            y    0            n   ?\n",
              "3  hypothyroid  24   F            f  ...            y    6            n   ?\n",
              "4  hypothyroid  77   M            f  ...            y   44            n   ?\n",
              "5  hypothyroid  85   F            f  ...            y   23            n   ?\n",
              "6  hypothyroid  64   F            f  ...            y   63            n   ?\n",
              "7  hypothyroid  72   F            f  ...            y   32            n   ?\n",
              "8  hypothyroid  20   F            f  ...            y   32            n   ?\n",
              "9  hypothyroid  42   F            f  ...            y  7.5            n   ?\n",
              "\n",
              "[10 rows x 26 columns]"
            ]
          },
          "metadata": {}
        }
      ]
    },
    {
      "cell_type": "markdown",
      "metadata": {
        "id": "y1VPFqwATu3p"
      },
      "source": [
        "The 'Unnamed' attribute indicate the target of the data.\n",
        "\n",
        "so rename it.\n",
        "\n",
        "filter the 'hypothyroid' class instances."
      ]
    },
    {
      "cell_type": "code",
      "metadata": {
        "colab": {
          "base_uri": "https://localhost:8080/",
          "height": 34
        },
        "id": "lDkbe3HKDo9D",
        "outputId": "fd7e392f-02bf-495f-a116-5a5a6fd2a7a2"
      },
      "source": [
        "hypothyroid = hypothyroid.rename(columns={hypothyroid.columns[0]:\"Target\",hypothyroid.columns[1]:\"age\",hypothyroid.columns[2]:\"sex\" })\n",
        "hypothyroid = hypothyroid[hypothyroid.Target.isin(['hypothyroid'])]\n",
        "display(hypothyroid.shape)"
      ],
      "execution_count": 17,
      "outputs": [
        {
          "output_type": "display_data",
          "data": {
            "text/plain": [
              "(151, 26)"
            ]
          },
          "metadata": {}
        }
      ]
    },
    {
      "cell_type": "markdown",
      "metadata": {
        "id": "kkSWj5ZGVC4i"
      },
      "source": [
        "C:Now importing 'sick-euthyroid' dataset "
      ]
    },
    {
      "cell_type": "code",
      "metadata": {
        "colab": {
          "base_uri": "https://localhost:8080/",
          "height": 573
        },
        "id": "yagdxywvUrD0",
        "outputId": "7fd02d47-39d9-4751-ebd4-26327654c6fd"
      },
      "source": [
        "sick_euthyroid = pd.read_csv(\"sick-euthyroid.CSV\")\n",
        "display(sick_euthyroid.shape)\n",
        "display(sick_euthyroid.head(10))\n"
      ],
      "execution_count": 18,
      "outputs": [
        {
          "output_type": "display_data",
          "data": {
            "text/plain": [
              "(3163, 26)"
            ]
          },
          "metadata": {}
        },
        {
          "output_type": "display_data",
          "data": {
            "text/html": [
              "<div>\n",
              "<style scoped>\n",
              "    .dataframe tbody tr th:only-of-type {\n",
              "        vertical-align: middle;\n",
              "    }\n",
              "\n",
              "    .dataframe tbody tr th {\n",
              "        vertical-align: top;\n",
              "    }\n",
              "\n",
              "    .dataframe thead th {\n",
              "        text-align: right;\n",
              "    }\n",
              "</style>\n",
              "<table border=\"1\" class=\"dataframe\">\n",
              "  <thead>\n",
              "    <tr style=\"text-align: right;\">\n",
              "      <th></th>\n",
              "      <th>Target</th>\n",
              "      <th>age</th>\n",
              "      <th>sex</th>\n",
              "      <th>on_thyroxine</th>\n",
              "      <th>query_on_thyroxine</th>\n",
              "      <th>on_antithyroid_medication</th>\n",
              "      <th>thyroid_surgery</th>\n",
              "      <th>query_hypothyroid</th>\n",
              "      <th>query_hyperthyroid</th>\n",
              "      <th>pregnant</th>\n",
              "      <th>sick</th>\n",
              "      <th>tumor</th>\n",
              "      <th>lithium</th>\n",
              "      <th>goitre</th>\n",
              "      <th>TSH_measured</th>\n",
              "      <th>TSH</th>\n",
              "      <th>T3_measured</th>\n",
              "      <th>T3</th>\n",
              "      <th>TT4_measured</th>\n",
              "      <th>TT4</th>\n",
              "      <th>T4U_measured</th>\n",
              "      <th>T4U</th>\n",
              "      <th>FTI_measured</th>\n",
              "      <th>FTI</th>\n",
              "      <th>TBG_measured</th>\n",
              "      <th>TBG</th>\n",
              "    </tr>\n",
              "  </thead>\n",
              "  <tbody>\n",
              "    <tr>\n",
              "      <th>0</th>\n",
              "      <td>sick-euthyroid</td>\n",
              "      <td>72</td>\n",
              "      <td>M</td>\n",
              "      <td>f</td>\n",
              "      <td>f</td>\n",
              "      <td>f</td>\n",
              "      <td>f</td>\n",
              "      <td>f</td>\n",
              "      <td>f</td>\n",
              "      <td>f</td>\n",
              "      <td>f</td>\n",
              "      <td>f</td>\n",
              "      <td>f</td>\n",
              "      <td>f</td>\n",
              "      <td>n</td>\n",
              "      <td>?</td>\n",
              "      <td>y</td>\n",
              "      <td>1</td>\n",
              "      <td>y</td>\n",
              "      <td>83</td>\n",
              "      <td>y</td>\n",
              "      <td>0.95</td>\n",
              "      <td>y</td>\n",
              "      <td>87</td>\n",
              "      <td>n</td>\n",
              "      <td>?</td>\n",
              "    </tr>\n",
              "    <tr>\n",
              "      <th>1</th>\n",
              "      <td>sick-euthyroid</td>\n",
              "      <td>45</td>\n",
              "      <td>F</td>\n",
              "      <td>f</td>\n",
              "      <td>f</td>\n",
              "      <td>f</td>\n",
              "      <td>f</td>\n",
              "      <td>f</td>\n",
              "      <td>f</td>\n",
              "      <td>f</td>\n",
              "      <td>f</td>\n",
              "      <td>f</td>\n",
              "      <td>f</td>\n",
              "      <td>f</td>\n",
              "      <td>y</td>\n",
              "      <td>1.90</td>\n",
              "      <td>y</td>\n",
              "      <td>1</td>\n",
              "      <td>y</td>\n",
              "      <td>82</td>\n",
              "      <td>y</td>\n",
              "      <td>0.73</td>\n",
              "      <td>y</td>\n",
              "      <td>112</td>\n",
              "      <td>n</td>\n",
              "      <td>?</td>\n",
              "    </tr>\n",
              "    <tr>\n",
              "      <th>2</th>\n",
              "      <td>sick-euthyroid</td>\n",
              "      <td>64</td>\n",
              "      <td>F</td>\n",
              "      <td>f</td>\n",
              "      <td>f</td>\n",
              "      <td>f</td>\n",
              "      <td>f</td>\n",
              "      <td>f</td>\n",
              "      <td>f</td>\n",
              "      <td>f</td>\n",
              "      <td>t</td>\n",
              "      <td>f</td>\n",
              "      <td>f</td>\n",
              "      <td>f</td>\n",
              "      <td>y</td>\n",
              "      <td>0.09</td>\n",
              "      <td>y</td>\n",
              "      <td>1</td>\n",
              "      <td>y</td>\n",
              "      <td>101</td>\n",
              "      <td>y</td>\n",
              "      <td>0.82</td>\n",
              "      <td>y</td>\n",
              "      <td>123</td>\n",
              "      <td>n</td>\n",
              "      <td>?</td>\n",
              "    </tr>\n",
              "    <tr>\n",
              "      <th>3</th>\n",
              "      <td>sick-euthyroid</td>\n",
              "      <td>56</td>\n",
              "      <td>M</td>\n",
              "      <td>f</td>\n",
              "      <td>f</td>\n",
              "      <td>f</td>\n",
              "      <td>f</td>\n",
              "      <td>f</td>\n",
              "      <td>f</td>\n",
              "      <td>f</td>\n",
              "      <td>f</td>\n",
              "      <td>f</td>\n",
              "      <td>f</td>\n",
              "      <td>f</td>\n",
              "      <td>y</td>\n",
              "      <td>0</td>\n",
              "      <td>y</td>\n",
              "      <td>0.80</td>\n",
              "      <td>y</td>\n",
              "      <td>76</td>\n",
              "      <td>y</td>\n",
              "      <td>0.77</td>\n",
              "      <td>y</td>\n",
              "      <td>99</td>\n",
              "      <td>n</td>\n",
              "      <td>?</td>\n",
              "    </tr>\n",
              "    <tr>\n",
              "      <th>4</th>\n",
              "      <td>sick-euthyroid</td>\n",
              "      <td>78</td>\n",
              "      <td>F</td>\n",
              "      <td>t</td>\n",
              "      <td>f</td>\n",
              "      <td>f</td>\n",
              "      <td>f</td>\n",
              "      <td>t</td>\n",
              "      <td>f</td>\n",
              "      <td>f</td>\n",
              "      <td>f</td>\n",
              "      <td>f</td>\n",
              "      <td>f</td>\n",
              "      <td>f</td>\n",
              "      <td>y</td>\n",
              "      <td>2.60</td>\n",
              "      <td>y</td>\n",
              "      <td>0.30</td>\n",
              "      <td>y</td>\n",
              "      <td>87</td>\n",
              "      <td>y</td>\n",
              "      <td>0.95</td>\n",
              "      <td>y</td>\n",
              "      <td>91</td>\n",
              "      <td>n</td>\n",
              "      <td>?</td>\n",
              "    </tr>\n",
              "    <tr>\n",
              "      <th>5</th>\n",
              "      <td>sick-euthyroid</td>\n",
              "      <td>80</td>\n",
              "      <td>M</td>\n",
              "      <td>f</td>\n",
              "      <td>f</td>\n",
              "      <td>f</td>\n",
              "      <td>f</td>\n",
              "      <td>f</td>\n",
              "      <td>f</td>\n",
              "      <td>f</td>\n",
              "      <td>f</td>\n",
              "      <td>f</td>\n",
              "      <td>f</td>\n",
              "      <td>f</td>\n",
              "      <td>y</td>\n",
              "      <td>1.40</td>\n",
              "      <td>y</td>\n",
              "      <td>0.80</td>\n",
              "      <td>y</td>\n",
              "      <td>105</td>\n",
              "      <td>y</td>\n",
              "      <td>0.88</td>\n",
              "      <td>y</td>\n",
              "      <td>120</td>\n",
              "      <td>n</td>\n",
              "      <td>?</td>\n",
              "    </tr>\n",
              "    <tr>\n",
              "      <th>6</th>\n",
              "      <td>sick-euthyroid</td>\n",
              "      <td>74</td>\n",
              "      <td>F</td>\n",
              "      <td>f</td>\n",
              "      <td>f</td>\n",
              "      <td>f</td>\n",
              "      <td>f</td>\n",
              "      <td>f</td>\n",
              "      <td>f</td>\n",
              "      <td>f</td>\n",
              "      <td>f</td>\n",
              "      <td>f</td>\n",
              "      <td>f</td>\n",
              "      <td>f</td>\n",
              "      <td>y</td>\n",
              "      <td>0</td>\n",
              "      <td>y</td>\n",
              "      <td>0.70</td>\n",
              "      <td>y</td>\n",
              "      <td>98</td>\n",
              "      <td>y</td>\n",
              "      <td>0.81</td>\n",
              "      <td>y</td>\n",
              "      <td>121</td>\n",
              "      <td>n</td>\n",
              "      <td>?</td>\n",
              "    </tr>\n",
              "    <tr>\n",
              "      <th>7</th>\n",
              "      <td>sick-euthyroid</td>\n",
              "      <td>?</td>\n",
              "      <td>F</td>\n",
              "      <td>f</td>\n",
              "      <td>f</td>\n",
              "      <td>f</td>\n",
              "      <td>f</td>\n",
              "      <td>f</td>\n",
              "      <td>f</td>\n",
              "      <td>f</td>\n",
              "      <td>f</td>\n",
              "      <td>f</td>\n",
              "      <td>f</td>\n",
              "      <td>f</td>\n",
              "      <td>y</td>\n",
              "      <td>1.40</td>\n",
              "      <td>y</td>\n",
              "      <td>1.10</td>\n",
              "      <td>y</td>\n",
              "      <td>121</td>\n",
              "      <td>y</td>\n",
              "      <td>1.11</td>\n",
              "      <td>y</td>\n",
              "      <td>109</td>\n",
              "      <td>n</td>\n",
              "      <td>?</td>\n",
              "    </tr>\n",
              "    <tr>\n",
              "      <th>8</th>\n",
              "      <td>sick-euthyroid</td>\n",
              "      <td>42</td>\n",
              "      <td>F</td>\n",
              "      <td>f</td>\n",
              "      <td>f</td>\n",
              "      <td>f</td>\n",
              "      <td>f</td>\n",
              "      <td>f</td>\n",
              "      <td>f</td>\n",
              "      <td>f</td>\n",
              "      <td>f</td>\n",
              "      <td>f</td>\n",
              "      <td>f</td>\n",
              "      <td>f</td>\n",
              "      <td>y</td>\n",
              "      <td>2.30</td>\n",
              "      <td>y</td>\n",
              "      <td>1.10</td>\n",
              "      <td>y</td>\n",
              "      <td>93</td>\n",
              "      <td>y</td>\n",
              "      <td>0.73</td>\n",
              "      <td>y</td>\n",
              "      <td>127</td>\n",
              "      <td>n</td>\n",
              "      <td>?</td>\n",
              "    </tr>\n",
              "    <tr>\n",
              "      <th>9</th>\n",
              "      <td>sick-euthyroid</td>\n",
              "      <td>89</td>\n",
              "      <td>M</td>\n",
              "      <td>f</td>\n",
              "      <td>f</td>\n",
              "      <td>f</td>\n",
              "      <td>f</td>\n",
              "      <td>f</td>\n",
              "      <td>f</td>\n",
              "      <td>f</td>\n",
              "      <td>f</td>\n",
              "      <td>f</td>\n",
              "      <td>f</td>\n",
              "      <td>f</td>\n",
              "      <td>y</td>\n",
              "      <td>0.80</td>\n",
              "      <td>y</td>\n",
              "      <td>0.80</td>\n",
              "      <td>y</td>\n",
              "      <td>111</td>\n",
              "      <td>y</td>\n",
              "      <td>0.68</td>\n",
              "      <td>y</td>\n",
              "      <td>165</td>\n",
              "      <td>n</td>\n",
              "      <td>?</td>\n",
              "    </tr>\n",
              "  </tbody>\n",
              "</table>\n",
              "</div>"
            ],
            "text/plain": [
              "           Target age sex on_thyroxine  ... FTI_measured  FTI TBG_measured TBG\n",
              "0  sick-euthyroid  72   M            f  ...            y   87            n   ?\n",
              "1  sick-euthyroid  45   F            f  ...            y  112            n   ?\n",
              "2  sick-euthyroid  64   F            f  ...            y  123            n   ?\n",
              "3  sick-euthyroid  56   M            f  ...            y   99            n   ?\n",
              "4  sick-euthyroid  78   F            t  ...            y   91            n   ?\n",
              "5  sick-euthyroid  80   M            f  ...            y  120            n   ?\n",
              "6  sick-euthyroid  74   F            f  ...            y  121            n   ?\n",
              "7  sick-euthyroid   ?   F            f  ...            y  109            n   ?\n",
              "8  sick-euthyroid  42   F            f  ...            y  127            n   ?\n",
              "9  sick-euthyroid  89   M            f  ...            y  165            n   ?\n",
              "\n",
              "[10 rows x 26 columns]"
            ]
          },
          "metadata": {}
        }
      ]
    },
    {
      "cell_type": "markdown",
      "metadata": {
        "id": "P89UDogVXLfB"
      },
      "source": [
        "filter the 'sick-euthyroid' class instances."
      ]
    },
    {
      "cell_type": "code",
      "metadata": {
        "colab": {
          "base_uri": "https://localhost:8080/",
          "height": 34
        },
        "id": "znq0m7rHVVlA",
        "outputId": "f325057a-913a-45ac-95ee-a75a534fd225"
      },
      "source": [
        "sick_euthyroid = sick_euthyroid[sick_euthyroid.Target.isin(['negative'])]\n",
        "display(sick_euthyroid.shape)"
      ],
      "execution_count": 19,
      "outputs": [
        {
          "output_type": "display_data",
          "data": {
            "text/plain": [
              "(2870, 26)"
            ]
          },
          "metadata": {}
        }
      ]
    },
    {
      "cell_type": "markdown",
      "metadata": {
        "id": "x7saf-YFYKZ8"
      },
      "source": [
        "Note:- For 'hypothyroid' and 'sick-euthyroid' dataset, we don't have 'I131_treatment', 'hypopituitary', 'psych' and 'referral_source' attributes."
      ]
    },
    {
      "cell_type": "markdown",
      "metadata": {
        "id": "wYSRh99lY-4R"
      },
      "source": [
        "D:Now importing 'ann-test' and 'ann-train' dataset"
      ]
    },
    {
      "cell_type": "code",
      "metadata": {
        "colab": {
          "base_uri": "https://localhost:8080/",
          "height": 383
        },
        "id": "Cy1Qv_YaWAWi",
        "outputId": "9b7ff31a-bc53-4b38-a6db-59afa09671c4"
      },
      "source": [
        "ann_train = pd.read_csv(\"ann-train.CSV\")\n",
        "ann_test = pd.read_csv(\"ann-test.CSV\")\n",
        "display(ann_test.head(10))\n"
      ],
      "execution_count": 20,
      "outputs": [
        {
          "output_type": "display_data",
          "data": {
            "text/html": [
              "<div>\n",
              "<style scoped>\n",
              "    .dataframe tbody tr th:only-of-type {\n",
              "        vertical-align: middle;\n",
              "    }\n",
              "\n",
              "    .dataframe tbody tr th {\n",
              "        vertical-align: top;\n",
              "    }\n",
              "\n",
              "    .dataframe thead th {\n",
              "        text-align: right;\n",
              "    }\n",
              "</style>\n",
              "<table border=\"1\" class=\"dataframe\">\n",
              "  <thead>\n",
              "    <tr style=\"text-align: right;\">\n",
              "      <th></th>\n",
              "      <th>age</th>\n",
              "      <th>sex</th>\n",
              "      <th>on_thyroxine</th>\n",
              "      <th>query_on_thyroxine</th>\n",
              "      <th>on_antithyroid_medication</th>\n",
              "      <th>sick</th>\n",
              "      <th>pregnant</th>\n",
              "      <th>thyroid_surgery</th>\n",
              "      <th>I131_treatment</th>\n",
              "      <th>query_hypothyroid</th>\n",
              "      <th>query_hyperthyroid</th>\n",
              "      <th>lithium</th>\n",
              "      <th>goitre</th>\n",
              "      <th>tumor</th>\n",
              "      <th>hypopituitary</th>\n",
              "      <th>psych</th>\n",
              "      <th>TSH</th>\n",
              "      <th>T3</th>\n",
              "      <th>TT4</th>\n",
              "      <th>T4U</th>\n",
              "      <th>FTI</th>\n",
              "      <th>Target</th>\n",
              "    </tr>\n",
              "  </thead>\n",
              "  <tbody>\n",
              "    <tr>\n",
              "      <th>0</th>\n",
              "      <td>0.29</td>\n",
              "      <td>0</td>\n",
              "      <td>0</td>\n",
              "      <td>0</td>\n",
              "      <td>0</td>\n",
              "      <td>0</td>\n",
              "      <td>0</td>\n",
              "      <td>0</td>\n",
              "      <td>0</td>\n",
              "      <td>0</td>\n",
              "      <td>0</td>\n",
              "      <td>0</td>\n",
              "      <td>0</td>\n",
              "      <td>0</td>\n",
              "      <td>0</td>\n",
              "      <td>0</td>\n",
              "      <td>0.00610</td>\n",
              "      <td>0.028</td>\n",
              "      <td>0.111</td>\n",
              "      <td>0.131</td>\n",
              "      <td>0.08500</td>\n",
              "      <td>2</td>\n",
              "    </tr>\n",
              "    <tr>\n",
              "      <th>1</th>\n",
              "      <td>0.32</td>\n",
              "      <td>0</td>\n",
              "      <td>0</td>\n",
              "      <td>0</td>\n",
              "      <td>0</td>\n",
              "      <td>0</td>\n",
              "      <td>0</td>\n",
              "      <td>0</td>\n",
              "      <td>0</td>\n",
              "      <td>0</td>\n",
              "      <td>0</td>\n",
              "      <td>0</td>\n",
              "      <td>0</td>\n",
              "      <td>0</td>\n",
              "      <td>0</td>\n",
              "      <td>0</td>\n",
              "      <td>0.00130</td>\n",
              "      <td>0.019</td>\n",
              "      <td>0.084</td>\n",
              "      <td>0.078</td>\n",
              "      <td>0.10700</td>\n",
              "      <td>3</td>\n",
              "    </tr>\n",
              "    <tr>\n",
              "      <th>2</th>\n",
              "      <td>0.35</td>\n",
              "      <td>0</td>\n",
              "      <td>0</td>\n",
              "      <td>0</td>\n",
              "      <td>0</td>\n",
              "      <td>0</td>\n",
              "      <td>0</td>\n",
              "      <td>0</td>\n",
              "      <td>0</td>\n",
              "      <td>0</td>\n",
              "      <td>0</td>\n",
              "      <td>0</td>\n",
              "      <td>0</td>\n",
              "      <td>0</td>\n",
              "      <td>0</td>\n",
              "      <td>0</td>\n",
              "      <td>0.00000</td>\n",
              "      <td>0.031</td>\n",
              "      <td>0.239</td>\n",
              "      <td>0.100</td>\n",
              "      <td>0.23900</td>\n",
              "      <td>3</td>\n",
              "    </tr>\n",
              "    <tr>\n",
              "      <th>3</th>\n",
              "      <td>0.21</td>\n",
              "      <td>0</td>\n",
              "      <td>0</td>\n",
              "      <td>0</td>\n",
              "      <td>0</td>\n",
              "      <td>0</td>\n",
              "      <td>0</td>\n",
              "      <td>0</td>\n",
              "      <td>0</td>\n",
              "      <td>0</td>\n",
              "      <td>0</td>\n",
              "      <td>0</td>\n",
              "      <td>0</td>\n",
              "      <td>0</td>\n",
              "      <td>0</td>\n",
              "      <td>0</td>\n",
              "      <td>0.00100</td>\n",
              "      <td>0.018</td>\n",
              "      <td>0.087</td>\n",
              "      <td>0.088</td>\n",
              "      <td>0.09900</td>\n",
              "      <td>3</td>\n",
              "    </tr>\n",
              "    <tr>\n",
              "      <th>4</th>\n",
              "      <td>0.22</td>\n",
              "      <td>0</td>\n",
              "      <td>0</td>\n",
              "      <td>0</td>\n",
              "      <td>0</td>\n",
              "      <td>1</td>\n",
              "      <td>0</td>\n",
              "      <td>0</td>\n",
              "      <td>0</td>\n",
              "      <td>0</td>\n",
              "      <td>0</td>\n",
              "      <td>0</td>\n",
              "      <td>0</td>\n",
              "      <td>0</td>\n",
              "      <td>0</td>\n",
              "      <td>0</td>\n",
              "      <td>0.00040</td>\n",
              "      <td>0.022</td>\n",
              "      <td>0.134</td>\n",
              "      <td>0.135</td>\n",
              "      <td>0.09900</td>\n",
              "      <td>3</td>\n",
              "    </tr>\n",
              "    <tr>\n",
              "      <th>5</th>\n",
              "      <td>0.22</td>\n",
              "      <td>0</td>\n",
              "      <td>0</td>\n",
              "      <td>0</td>\n",
              "      <td>0</td>\n",
              "      <td>0</td>\n",
              "      <td>0</td>\n",
              "      <td>0</td>\n",
              "      <td>0</td>\n",
              "      <td>0</td>\n",
              "      <td>0</td>\n",
              "      <td>0</td>\n",
              "      <td>0</td>\n",
              "      <td>0</td>\n",
              "      <td>0</td>\n",
              "      <td>0</td>\n",
              "      <td>0.00160</td>\n",
              "      <td>0.020</td>\n",
              "      <td>0.123</td>\n",
              "      <td>0.113</td>\n",
              "      <td>0.10900</td>\n",
              "      <td>3</td>\n",
              "    </tr>\n",
              "    <tr>\n",
              "      <th>6</th>\n",
              "      <td>0.39</td>\n",
              "      <td>0</td>\n",
              "      <td>0</td>\n",
              "      <td>0</td>\n",
              "      <td>0</td>\n",
              "      <td>0</td>\n",
              "      <td>0</td>\n",
              "      <td>0</td>\n",
              "      <td>0</td>\n",
              "      <td>0</td>\n",
              "      <td>1</td>\n",
              "      <td>0</td>\n",
              "      <td>0</td>\n",
              "      <td>0</td>\n",
              "      <td>0</td>\n",
              "      <td>0</td>\n",
              "      <td>0.00160</td>\n",
              "      <td>0.036</td>\n",
              "      <td>0.133</td>\n",
              "      <td>0.144</td>\n",
              "      <td>0.09300</td>\n",
              "      <td>3</td>\n",
              "    </tr>\n",
              "    <tr>\n",
              "      <th>7</th>\n",
              "      <td>0.77</td>\n",
              "      <td>1</td>\n",
              "      <td>0</td>\n",
              "      <td>0</td>\n",
              "      <td>0</td>\n",
              "      <td>0</td>\n",
              "      <td>0</td>\n",
              "      <td>0</td>\n",
              "      <td>0</td>\n",
              "      <td>0</td>\n",
              "      <td>0</td>\n",
              "      <td>0</td>\n",
              "      <td>0</td>\n",
              "      <td>0</td>\n",
              "      <td>0</td>\n",
              "      <td>0</td>\n",
              "      <td>0.00081</td>\n",
              "      <td>0.020</td>\n",
              "      <td>0.080</td>\n",
              "      <td>0.096</td>\n",
              "      <td>0.08316</td>\n",
              "      <td>3</td>\n",
              "    </tr>\n",
              "    <tr>\n",
              "      <th>8</th>\n",
              "      <td>0.23</td>\n",
              "      <td>0</td>\n",
              "      <td>0</td>\n",
              "      <td>0</td>\n",
              "      <td>0</td>\n",
              "      <td>0</td>\n",
              "      <td>0</td>\n",
              "      <td>0</td>\n",
              "      <td>0</td>\n",
              "      <td>0</td>\n",
              "      <td>0</td>\n",
              "      <td>0</td>\n",
              "      <td>0</td>\n",
              "      <td>0</td>\n",
              "      <td>0</td>\n",
              "      <td>0</td>\n",
              "      <td>0.00025</td>\n",
              "      <td>0.014</td>\n",
              "      <td>0.113</td>\n",
              "      <td>0.096</td>\n",
              "      <td>0.11746</td>\n",
              "      <td>3</td>\n",
              "    </tr>\n",
              "    <tr>\n",
              "      <th>9</th>\n",
              "      <td>0.23</td>\n",
              "      <td>0</td>\n",
              "      <td>0</td>\n",
              "      <td>0</td>\n",
              "      <td>0</td>\n",
              "      <td>0</td>\n",
              "      <td>0</td>\n",
              "      <td>0</td>\n",
              "      <td>0</td>\n",
              "      <td>0</td>\n",
              "      <td>0</td>\n",
              "      <td>0</td>\n",
              "      <td>0</td>\n",
              "      <td>0</td>\n",
              "      <td>0</td>\n",
              "      <td>0</td>\n",
              "      <td>0.00260</td>\n",
              "      <td>0.011</td>\n",
              "      <td>0.104</td>\n",
              "      <td>0.104</td>\n",
              "      <td>0.09900</td>\n",
              "      <td>3</td>\n",
              "    </tr>\n",
              "  </tbody>\n",
              "</table>\n",
              "</div>"
            ],
            "text/plain": [
              "    age  sex  on_thyroxine  query_on_thyroxine  ...    TT4    T4U      FTI  Target\n",
              "0  0.29    0             0                   0  ...  0.111  0.131  0.08500       2\n",
              "1  0.32    0             0                   0  ...  0.084  0.078  0.10700       3\n",
              "2  0.35    0             0                   0  ...  0.239  0.100  0.23900       3\n",
              "3  0.21    0             0                   0  ...  0.087  0.088  0.09900       3\n",
              "4  0.22    0             0                   0  ...  0.134  0.135  0.09900       3\n",
              "5  0.22    0             0                   0  ...  0.123  0.113  0.10900       3\n",
              "6  0.39    0             0                   0  ...  0.133  0.144  0.09300       3\n",
              "7  0.77    1             0                   0  ...  0.080  0.096  0.08316       3\n",
              "8  0.23    0             0                   0  ...  0.113  0.096  0.11746       3\n",
              "9  0.23    0             0                   0  ...  0.104  0.104  0.09900       3\n",
              "\n",
              "[10 rows x 22 columns]"
            ]
          },
          "metadata": {}
        }
      ]
    },
    {
      "cell_type": "markdown",
      "metadata": {
        "id": "jbtimWOmbcZi"
      },
      "source": [
        "we can see 3,2,1 classes in 'Target' column.so, we have to find 'measured' attributes based on their columns.\n"
      ]
    },
    {
      "cell_type": "code",
      "metadata": {
        "colab": {
          "base_uri": "https://localhost:8080/",
          "height": 156
        },
        "id": "04xQGMX4Zjc5",
        "outputId": "15f26f3c-0972-44c5-d99c-deda518b08bf"
      },
      "source": [
        "target1 = pd.Series(ann_test[ann_test.columns[-1]].values)\n",
        "display(target1.value_counts())\n",
        "target2 = pd.Series(ann_train[ann_train.columns[-1]].values)\n",
        "display(target2.value_counts())"
      ],
      "execution_count": 21,
      "outputs": [
        {
          "output_type": "display_data",
          "data": {
            "text/plain": [
              "3    3178\n",
              "2     177\n",
              "1      73\n",
              "dtype: int64"
            ]
          },
          "metadata": {}
        },
        {
          "output_type": "display_data",
          "data": {
            "text/plain": [
              "3    3488\n",
              "2     191\n",
              "1      93\n",
              "dtype: int64"
            ]
          },
          "metadata": {}
        }
      ]
    },
    {
      "cell_type": "markdown",
      "metadata": {
        "id": "41TAtKdockeF"
      },
      "source": [
        "Looking at the distribuition of the values for the 'Target' attribute, we can understand that:\n",
        "* 3 is referring to the 'negative' class\n",
        "* 2 is referring to the 'hypothyroid' class\n",
        "* 1 is referring to the 'hyperthyroid' class\n",
        "\n",
        "Now, we should analyze the distribuition of the 'sex' attribute in the other datasets to understand how I should treat it in the 'ann' datasets\n",
        "\n",
        "\n"
      ]
    },
    {
      "cell_type": "code",
      "metadata": {
        "colab": {
          "base_uri": "https://localhost:8080/",
          "height": 173
        },
        "id": "C_LtY_UyfLoW",
        "outputId": "90079b4d-d018-440e-b2e3-55b2ed5dd05f"
      },
      "source": [
        "print(\"Sex thyroid0387 1=F,0=M:\")\n",
        "sex_series1 = pd.Series(thyroid0387[thyroid0387.columns[1]].values)\n",
        "display(sex_series1.value_counts())\n",
        "print(\"Sick-euthyroid:\")\n",
        "sex_series2 = pd.Series(sick_euthyroid[sick_euthyroid.columns[2]].values)\n",
        "display(sex_series2.value_counts())"
      ],
      "execution_count": 22,
      "outputs": [
        {
          "output_type": "stream",
          "name": "stdout",
          "text": [
            "Sex thyroid0387 1=F,0=M:\n"
          ]
        },
        {
          "output_type": "display_data",
          "data": {
            "text/plain": [
              "1.0    6073\n",
              "0.0    2792\n",
              "dtype: int64"
            ]
          },
          "metadata": {}
        },
        {
          "output_type": "stream",
          "name": "stdout",
          "text": [
            "Sick-euthyroid:\n"
          ]
        },
        {
          "output_type": "display_data",
          "data": {
            "text/plain": [
              "F    2003\n",
              "M     800\n",
              "?      67\n",
              "dtype: int64"
            ]
          },
          "metadata": {}
        }
      ]
    },
    {
      "cell_type": "markdown",
      "metadata": {
        "id": "inqFe4H5emaZ"
      },
      "source": [
        "we can understand that there are more female than male patients in the above datasets. now consider 'ann' datasets to conclude 'sex' attribute. "
      ]
    },
    {
      "cell_type": "code",
      "metadata": {
        "colab": {
          "base_uri": "https://localhost:8080/",
          "height": 121
        },
        "id": "FYyMneI3cenl",
        "outputId": "14ec7ba4-012c-4237-b286-621babb413e7"
      },
      "source": [
        "sex1 = pd.Series(ann_test[ann_test.columns[1]].values)\n",
        "display(sex1.value_counts())\n",
        "sex2 = pd.Series(ann_train[ann_train.columns[1]].values)\n",
        "display(sex2.value_counts())"
      ],
      "execution_count": 23,
      "outputs": [
        {
          "output_type": "display_data",
          "data": {
            "text/plain": [
              "0    2380\n",
              "1    1048\n",
              "dtype: int64"
            ]
          },
          "metadata": {}
        },
        {
          "output_type": "display_data",
          "data": {
            "text/plain": [
              "0    2629\n",
              "1    1143\n",
              "dtype: int64"
            ]
          },
          "metadata": {}
        }
      ]
    },
    {
      "cell_type": "markdown",
      "metadata": {
        "id": "0FgijfG1glRZ"
      },
      "source": [
        "we can assume that \n",
        "\n",
        "'0' refers to female\n",
        "\n",
        "'1' refers to male"
      ]
    },
    {
      "cell_type": "markdown",
      "metadata": {
        "id": "BJ1GdjodnPQ-"
      },
      "source": [
        "Concatinate ann_train and ann_test datasets and also map 'sex' and 'Target' attributes.\n",
        "\n",
        "multiply 100 for all the continuous and numerical attributes and to add the 'measured' attributes.\n",
        "\n",
        "Another important things to do is to multply for 100 all the continuos and numerical attributes and to add the 'measured' attributes.\n"
      ]
    },
    {
      "cell_type": "code",
      "metadata": {
        "colab": {
          "base_uri": "https://localhost:8080/",
          "height": 502
        },
        "id": "LjENT9dhjJqu",
        "outputId": "7348b99b-c6d8-4482-da9f-10f6fb9bf326"
      },
      "source": [
        "ann = pd.concat([ann_train,ann_test], ignore_index = True)\n",
        "ann['sex'] = ann['sex'].map({0:'F',1:'M'})\n",
        "ann['Target'] = ann['Target'].map({3:'negative',2:'hypothyroid',1:'hyperthyroid'})\n",
        "\n",
        "continuos_attributes = ['age','TSH','T3','TT4','T4U','FTI']\n",
        "for attribute in continuos_attributes:\n",
        "    ann[attribute] = ann[attribute] * 100\n",
        "\n",
        "def fillNewAttributes(row,attribute):\n",
        "    if row[attribute] > 0:\n",
        "        return 'y'\n",
        "    else:\n",
        "        return 'n'\n",
        "\n",
        "ann['TSH_measured'] = ann.apply(lambda row: fillNewAttributes(row,'TSH'), axis=1)\n",
        "ann['T3_measured'] = ann.apply(lambda row: fillNewAttributes(row,'T3'), axis=1)\n",
        "ann['TT4_measured'] = ann.apply(lambda row: fillNewAttributes(row,'TT4'), axis=1)\n",
        "ann['T4U_measured'] = ann.apply(lambda row: fillNewAttributes(row,'T4U'), axis=1)\n",
        "ann['FTI_measured'] = ann.apply(lambda row: fillNewAttributes(row,'FTI'), axis=1)\n",
        "display(ann.dtypes)"
      ],
      "execution_count": 24,
      "outputs": [
        {
          "output_type": "display_data",
          "data": {
            "text/plain": [
              "age                          float64\n",
              "sex                           object\n",
              "on_thyroxine                   int64\n",
              "query_on_thyroxine             int64\n",
              "on_antithyroid_medication      int64\n",
              "sick                           int64\n",
              "pregnant                       int64\n",
              "thyroid_surgery                int64\n",
              "I131_treatment                 int64\n",
              "query_hypothyroid              int64\n",
              "query_hyperthyroid             int64\n",
              "lithium                        int64\n",
              "goitre                         int64\n",
              "tumor                          int64\n",
              "hypopituitary                  int64\n",
              "psych                          int64\n",
              "TSH                          float64\n",
              "T3                           float64\n",
              "TT4                          float64\n",
              "T4U                          float64\n",
              "FTI                          float64\n",
              "Target                        object\n",
              "TSH_measured                  object\n",
              "T3_measured                   object\n",
              "TT4_measured                  object\n",
              "T4U_measured                  object\n",
              "FTI_measured                  object\n",
              "dtype: object"
            ]
          },
          "metadata": {}
        }
      ]
    },
    {
      "cell_type": "markdown",
      "metadata": {
        "id": "zDMPmofEuLcS"
      },
      "source": [
        "E:Merge all the datasets into one dataset"
      ]
    },
    {
      "cell_type": "code",
      "metadata": {
        "colab": {
          "base_uri": "https://localhost:8080/",
          "height": 572
        },
        "id": "j_WfVoXMp9bj",
        "outputId": "ccc6c6bb-1907-4a3b-855a-6c32e9837fce"
      },
      "source": [
        "data = pd.concat([allDataset,thyroid0387,hypothyroid,sick_euthyroid,ann], ignore_index = True)\n",
        "display(data.shape)\n",
        "display(data.dtypes)"
      ],
      "execution_count": 25,
      "outputs": [
        {
          "output_type": "display_data",
          "data": {
            "text/plain": [
              "(19786, 30)"
            ]
          },
          "metadata": {}
        },
        {
          "output_type": "display_data",
          "data": {
            "text/plain": [
              "age                          object\n",
              "sex                          object\n",
              "on_thyroxine                 object\n",
              "query_on_thyroxine           object\n",
              "on_antithyroid_medication    object\n",
              "sick                         object\n",
              "pregnant                     object\n",
              "thyroid_surgery              object\n",
              "I131_treatment               object\n",
              "query_hypothyroid            object\n",
              "query_hyperthyroid           object\n",
              "lithium                      object\n",
              "goitre                       object\n",
              "tumor                        object\n",
              "hypopituitary                object\n",
              "psych                        object\n",
              "TSH_measured                 object\n",
              "TSH                          object\n",
              "T3_measured                  object\n",
              "T3                           object\n",
              "TT4_measured                 object\n",
              "TT4                          object\n",
              "T4U_measured                 object\n",
              "T4U                          object\n",
              "FTI_measured                 object\n",
              "FTI                          object\n",
              "TBG_measured                 object\n",
              "TBG                          object\n",
              "referral_source              object\n",
              "Target                       object\n",
              "dtype: object"
            ]
          },
          "metadata": {}
        }
      ]
    },
    {
      "cell_type": "markdown",
      "metadata": {
        "id": "Wu_6NJQIvWsN"
      },
      "source": [
        "**2: Data preprocessing**\n",
        "\n",
        "Observing the set of possible values for each attribute."
      ]
    },
    {
      "cell_type": "code",
      "metadata": {
        "colab": {
          "base_uri": "https://localhost:8080/"
        },
        "id": "BwqYuVMvrY4U",
        "outputId": "d755ae2e-7813-4459-d7ae-71cd5ada52ea"
      },
      "source": [
        "for column in data.columns:\n",
        "    listOfValues=set(data[column])\n",
        "    print(column,\": \",listOfValues)"
      ],
      "execution_count": 26,
      "outputs": [
        {
          "output_type": "stream",
          "name": "stdout",
          "text": [
            "age :  {'60', 1, 2, 3, 4, 5, 6, 7, 8, 9, '23', 11, 12, 13, 14, '45', 15, 16, 18, 19, 20, 21, '58', '62', 24, 25, 26, 27, 28, '50', '48', 31, 32, 33, 34, 35, 36, 37, 38, 39, '37', 40, 42, 43, '74', 45, '75', '51', '36', 41, 50, 51, 46, 53, 54, '29', 56, 55, 58, 59, '54', 60, 62, 63, 61, 65, 64, 67, 68, 69, 70, 71, 66, 73, 74, 75, 76, 77, '87', 79, 80, 78, 82, 83, 81, 85, 86, 17, 88, 84, '59', 90, 92, 89, 87, 93, 91, 97, 94, 95, 7.000000000000001, '2', '72', '18', '66', '90', 22, '77', '9', 23, '10', '8', '4', '57', 29, 30, '20', '22', '15', '80', '26', 14.000000000000002, '82', '92', 44, '83', '81', 47, 48, '76', 49, '14', '5', '67', 10, 51.5, 52, 52.190000000000005, '21', '65', '30', 55.00000000000001, '33', '44', 56.99999999999999, 56.00000000000001, '52', '79', '85', 57, '17', 57.99999999999999, '47', '63', '53', '19', '84', '56', '41', '31', '28', '35', '68', '46', '24', '49', '42', '61', '55', 72, '13', '40', '98', '88', '39', '71', '86', '6', 28.000000000000004, 28.999999999999996, '69', '25', '97', '64', '73', '7', '38', '32', '1', 455, '16', '34', '27', '78', '43', '70', 65511, 65512, 65526, '?', '12', '11'}\n",
            "sex :  {0.0, 1.0, nan, nan, nan, nan, nan, nan, nan, nan, nan, nan, nan, nan, nan, nan, 'M', nan, nan, nan, nan, nan, nan, nan, nan, nan, nan, 'F', nan, nan, nan, nan, nan, nan, nan, nan, nan, nan, nan, nan, nan, nan, nan, nan, nan, nan, nan, nan, nan, nan, nan, nan, nan, nan, nan, nan, nan, nan, nan, nan, nan, nan, nan, nan, nan, nan, nan, nan, nan, nan, nan, nan, nan, nan, nan, nan, nan, nan, nan, nan, nan, nan, nan, nan, nan, nan, nan, nan, nan, nan, nan, nan, nan, nan, nan, nan, nan, nan, nan, nan, nan, nan, nan, nan, nan, nan, nan, nan, nan, nan, nan, nan, nan, nan, nan, nan, nan, nan, nan, nan, nan, nan, nan, nan, nan, nan, nan, nan, nan, nan, nan, nan, nan, nan, nan, nan, nan, nan, nan, nan, nan, nan, nan, nan, nan, nan, nan, nan, nan, nan, nan, nan, nan, nan, nan, nan, nan, nan, nan, nan, nan, nan, nan, nan, nan, nan, nan, nan, nan, nan, nan, nan, nan, nan, nan, nan, nan, nan, nan, nan, nan, nan, nan, nan, nan, nan, nan, nan, nan, nan, nan, nan, nan, nan, nan, nan, nan, nan, nan, nan, nan, nan, nan, nan, nan, nan, nan, nan, nan, nan, nan, nan, nan, nan, nan, '?', nan, nan, nan, nan, nan, nan, nan, nan, nan, nan, nan, nan, nan, nan, nan, nan, nan, nan, nan, nan, nan, nan, nan, nan, nan, nan, nan, nan, nan, nan, nan, nan, nan, nan, nan, nan, nan, nan, nan, nan, nan, nan, nan, nan, nan, nan, nan, nan, nan, nan, nan, nan, nan, nan, nan, nan, nan, nan, nan, nan, nan, nan, nan, nan, nan, nan, nan, nan, nan, nan, nan, nan, nan, nan, nan, nan, nan, nan, nan, nan, nan, nan, nan, nan, nan, nan, nan, nan, nan, nan, nan, nan, nan, nan, nan, nan}\n",
            "on_thyroxine :  {'f', 1, 't', 0}\n",
            "query_on_thyroxine :  {'f', 0, 't', 1}\n",
            "on_antithyroid_medication :  {'f', 0, 't', 1}\n",
            "sick :  {'f', 0, 't', 1}\n",
            "pregnant :  {'f', 0, 't', 1}\n",
            "thyroid_surgery :  {'f', 0, 't', 1}\n",
            "I131_treatment :  {nan, 1, 0, 't', 'f'}\n",
            "query_hypothyroid :  {'f', 0, 't', 1}\n",
            "query_hyperthyroid :  {'f', 0, 't', 1}\n",
            "lithium :  {'f', 0, 't', 1}\n",
            "goitre :  {'f', 0, 't', 1}\n",
            "tumor :  {'f', 0, 't', 1}\n",
            "hypopituitary :  {nan, 0, 1, 't', 'f'}\n",
            "psych :  {nan, 0, 1, 't', 'f'}\n",
            "TSH_measured :  {'f', 'y', 't', 'n'}\n",
            "TSH :  {0.79, 0.25, 2.5, 3.2, 4.7, '17.4', 6.1, '8.8', '3.6', '0.33', '4.30', 7.000000000000001, 1.0, 4.2, 2.0, '45', 9.8, 10.0, 3.0, 10.9, 12.6, 16.0, 4.0, '62', 15.1, 4.5, 18.3, 5.5, 23.0, 23.6, 5.0, 6.5, 0.75, 1.5, 0.5, '4.90', '0.58', 0.0, '90', 6.0, 40.0, 8.0, 8.5, 43.6, 44.0, 39.3, 46.8, 47.2, 47.8, 49.4, 46.0, 50.0, 53.0, '8.90', '54', 0.093, 0.08499999999999999, 0.101, 16.5, '0.08', '66', 17.0, '0.31', '1.60', '0.43', '9', '393', '0.075', '0.61', '1.20', '164', '0', 0.16999999999999998, 0.07700000000000001, 0.069, '0.82', 0.061, '0.77', '8.2', '9.9', '126', '0.09', '0.21', '165', '1.3', '1.50', '1.70', 0.045, '0.49', '0.3', '2.70', '22', '0.30', '6.90', '0.9', 0.037, '26', '0.68', '177', '7.8', '141', 0.029, '1.83', '0.055', 0.9890000000000001, 0.021, '5.1', '0.55', 0.41900000000000004, 1.8000000000000003, '131', '0.015', '0.02', 0.013000000000000001, '1.10', 3.3000000000000003, '1.5', '0.12', 0.005, '230', '0.41', '14.799999', '0.23', '67', 0.13, 0.63, 0.59, 0.67, 0.38, '3.70', 0.33999999999999997, 0.5499999999999999, 0.7100000000000001, 0.11399999999999999, '11.5', '1.2', '106', '9.5', '109', '5.6', '65', '0.40', '4.40', 0.27, 0.77, 0.52, '53', '19', '5.5', '0.90', '8.50', '6.50', 0.44999999999999996, 0.95, '17.40', '15.30', 0.09, 0.098, 14.099999999999998, '0.16', '35', '8.299999', '4.3', '0.48', 0.074, 0.082, '55', '8.799999', '13', '0.13', '9.7', '4.60', '114', '8.6', '40', '6.40', '0.72', '0.01', '88', '39', '0.93', 0.3, 0.066, '0.17', '6.7', '6', '9.90', 0.058, 4.6, 4.1, '0.95', 5.1, 5.6, '3.7', 0.05, 7.6, '6.5', '0.5', 8.6, '19.199999', '0.94', '3.90', '9.4', 9.6, 0.042, 0.033999999999999996, '15.3', 10.6, 11.6, '0.6', '0.065', '16', 3.6000000000000005, '2.3', 0.026000000000000002, '117', '2.20', 6.6000000000000005, 0.018000000000000002, 0.573, '70', '6.60', 0.01, '0.2', '3', '2.1', '170', '7.30', '288', '5.73', 0.002, '4.5', '12', '436', '60', 0.26, '11.1', 0.76, '150', 0.6799999999999999, 0.97, 1.3, '0.05', '1.4', '23', '1.8', '58', '213', '48', '7.5', '0.80', '0.25', '3.4', '9.40', '8.099999', 0.22, 0.54, 0.095, 0.087, 0.10300000000000001, 13.100000000000001, 13.600000000000001, '3.80', '0.56', 0.72, 16.6, '0.62', '0.63', 17.6, '59', '472', 0.071, 0.079, 19.1, '0.035', 1.4, '7.1', '3.1', 1.9, 1.15, 2.9, '0.11', 3.9, '494', '10.70', '9.099999', 0.9290000000000002, '183', '103', '0.59', 0.38999999999999996, 0.43, 0.18, 0.063, '8', '4', '197', '8.20', '57', '0.125', '0.73', '7.40', 0.055, '9.6', '9.70', '6.9', '15.299999', '80', 0.039, '7.10', '0.105', 0.04700000000000001, '7.7', '0.60', 0.13999999999999999, 0.031, '30.5', '0.37', '6.20', '92', 0.023, '530', '3.50', '9.2', 0.015, '1.6', '440', '0.53', '140', '4.20', 0.006999999999999999, '3.8', '76', '14', '3.10', '4.70', '2.10', '4.80', 0.64, 0.6, 0.5599999999999999, '7.9', 0.8290000000000001, '9.1', '4.7', '198', '30', '6.1', '5.4', '3.9', '0.28', '0.06', 1.0290000000000001, '52', '0.29', '0.79', 1.209, 8.2, '14.299999', '0.85', '16.5', '14.8', 0.889, 11.7, '0.18', '0.095', '1.40', '8.70', '16.50', 0.1, 0.092, '1.12', 1.7000000000000002, '430', '0.89', 2.7, 2.2, '7.4', '9.60', '0.15', 17.2, 17.7, '0.70', 5.2, '3.60', '49', 0.084, 0.06799999999999999, '42', 0.076, 19.7, 6.7, 6.2, 19.2, 1.6789999999999998, '9.80', '138', 0.74, '0.76', 25.2, '5.90', '1.90', 0.06, 0.31, 0.35000000000000003, 0.9199999999999999, '6.70', '100', '0.97', '9.599999', '5.20', '6.6', 0.052000000000000005, '0.38', '8.3', '8.9', '14.4', 0.044000000000000004, '2.90', '10.30', '73', '0.03', 0.027999999999999997, '32', 0.036000000000000004, '118', '89', '0.26', '5.8', '0.64', '5.60', 0.02, '2.60', '0.81', '0.74', 0.011999999999999999, '8.60', '0.78', '153', '?', 0.004, 0.22999999999999998, 1.1, '0.32', 0.9590000000000001, 0.48, 3.1, 2.4, '7.2', 1.6, '6.8', 2.6, 2.1, 3.5000000000000004, '50', '1.7', '0.255', 0.09699999999999999, '4.10', '19.20', '74', '36', '37', '1.80', '29', 0.08099999999999999, '11.099999', 1.479, '4.8', 0.909, '0.86', '0.98', 0.073, 0.08900000000000001, 0.839, '400', '0.19', '18', '1.9', '77', '2.5', '0.24', 0.11199999999999999, 0.19, 0.44, '10', 0.065, 0.056999999999999995, '9.799999', '1.1', '4.4', 0.51, '5.7', '0.45', '7.6', '20', 0.69, '4.50', 0.049, '9.3', 1.44, '6.3', '15', 0.041, 0.8699999999999999, '8.80', 0.15, 0.033, '82', 2.3, '0.99', 2.8, 0.025, 3.05, '143', 3.8, '145', '460', 4.3, 4.8, 0.016999999999999998, 5.8, 5.3, '9.10', 7.8, 7.3, '0.045', 0.009000000000000001, '6.4', '5', '26.4', '0.085', '260', 0.001, '9.299999', 0.4, '2.4', '8.1', '5.3', 0.36, 0.61, 0.8790000000000001, 0.469, 0.65, 0.7799999999999999, '14.40', '13.299999', '0.7', '33', '85', '188', 0.11, 6.800000000000001, '5.10', 10.8, 10.3, '18.4', '8.599999', '252', 11.8, 0.086, '0.51', '28', '96', 14.3, '0.52', '0.34', '68', '478', '46', '13.7', 17.8, 18.8, 0.06999999999999999, 0.09400000000000001, 0.078, 19.8, '8.7', '0.87', '61', '0.54', '3.20', '11.599999', 0.27999999999999997, '71', '11.40', '151', 0.32, 0.859, 0.062, 1.109, '10.3', '25', 0.054, 0.046, 0.8500000000000001, '0.42', 0.038, 0.53, '4.9', '0.67', '3.3', '7', '38', '16.799999', '6.2', '7.70', 0.03, 0.45999999999999996, '2.2', '8.4', 0.022000000000000002, 0.013999999999999999, '7.90', '1.04', 0.005999999999999999, '1.05', '11', 0.24, '468', 0.8200000000000001, 0.49, 0.7, 0.8089999999999999, 1.2, '0.07', '192', 0.9000000000000001, 1.1900000000000002, '0.47', '5.80', '2.80', '0.27', '0.57', '10.7', '4.2', '9.8', '2', '0.83', '200', '51', '0.025', 0.099, 0.091, '13.2', 0.232, '0.84', '0.35', '8.10', 16.4, '0.22', 0.075, 19.9, '166', '2.40', '0.91', '0.71', '7.3', '14.90', '0.96', 0.20800000000000002, 0.2, 0.08300000000000002, 0.05099999999999999, 0.067, 3.4000000000000004, 4.4, 4.9, '236', 5.4, '5.9', 5.9, 0.043, '99', '2.9', '4.01', '10.299999', '172', 8.9, '8.40', 9.9, '14.30', 0.034999999999999996, '0.65', '136', 11.4, 0.16, 1.37, '5.50', 0.027, '0.36', '108', 0.8, '2.50', '6.80', '6.10', 0.019, '8.30', '0.50', 0.73, 7.400000000000001, '125', '4.1', 0.011000000000000001, '9.50', 0.0029999999999999996, '0.39', '0.66', 0.37, 0.979, 0.12, 0.62, '0.005', '2.6', 1.8399999999999999, 0.41000000000000003, 0.66, 0.58, '21', '11.4', '0.92', '44', '1.03', '191', '17', 0.09599999999999999, '47', '11.9', '63', '0.8', '178', '8.5', '56', '41', '5.2', '0.115', 0.18899999999999997, 13.900000000000002, 0.10400000000000001, '31', '2.8', '0.135', '7.80', '11.60', '139', 0.9390000000000001, '176', '1.14', '24', 0.08, '0.1', 0.08800000000000001, '3.40', '0.44', '4.6', 3.7000000000000006, '0.4', '0.14', '1.02', '3.5', '12.099999', '0.88', '98', '13.30', '3.30', 0.29, 0.33, '86', 0.064, 0.07200000000000001, 0.055999999999999994, '0.20', '0.75', '0.46', '0.10', '1.01', 0.047999999999999994, '7.60', '500', '9.20', 0.04, 0.032, '199', '1', '235', 14.499999999999998, 0.023999999999999997, '1.30', '13.20', '216', '160', '3.2', '0.69', '2.30', '34', '6.30', '27', '43', '78', '7.50', 0.016, 1.1400000000000001, '0.04', 0.10199999999999998, 2.64, 0.008, 0.5700000000000001, '116', '2.7'}\n",
            "T3_measured :  {'f', 'y', 't', 'n'}\n",
            "T3 :  {0.8, 1.5, 2.4, 3.0, 1.7000000000000002, 2.6, 1.6, '3.6', '0.05', '1.4', '6.8', '4.30', 2.0, '1.8', 2.5, 6.2, 7.3, '2.80', 10.59, 18.0, 13.29, 4.0, 4.5, 0.9299999999999999, 5.0, 5.5, '1.7', 1.0, '4.2', '4.10', '4.90', '2', 0.5, 6.0, '0.80', 6.5, 8.5, '1.80', '0.83', 9.5, '10.6', 3.5000000000000004, '8.90', 5.9, '3.4', '8.099999', '4.8', '3.80', '10.20', '8.10', 7.000000000000001, 1.4, '7.1', '3.1', '1.60', 1.9, 2.9, '18', '2.40', 3.9, '1.9', 0.9000000000000001, '7.3', '2.5', '1.20', '0', 0.2, '8', '4', 2.08, 2.01, '4.4', '1.1', 3.4000000000000004, 4.6899999999999995, 4.9, '5.7', 4.4, 5.4, '1.3', '5.9', '6.9', '1.70', '1.50', '7.6', 6.9, 6.4, '2.9', '0.3', '2.70', '4.50', 1.44, '0.30', 0.69, '0.9', '0.60', '5.50', '6.20', 2.3, 2.8, 3.8, '2.50', 4.8, 1.3, 4.3, '6.10', 4.19, '5.1', 5.3, '3.50', '10.599999', '1.6', '0.50', 1.8000000000000003, '4.20', '4.1', '1.10', 3.3000000000000003, '1.5', '3.8', '6.4', '3.10', '5', '4.70', '2.10', '2.4', '5.3', '4.80', 0.6, '2.6', '3.70', 0.4, 0.83, '13.299999', '1.2', '4.7', '5.6', '9.5', '0.7', '5.4', '6.1', '3.9', '0.40', 6.800000000000001, '4.40', '0.90', '5.5', '0.8', '5.30', '5.10', 0.7, 1.2, '8.599999', '8.5', '1.40', '5.2', 0.1, 2.2, 2.7, '2.8', 3.2, '4.3', '0.70', 5.7, 5.2, '3.60', 6.7, '0.1', '3.40', 1.7399999999999998, '9.80', 2.06, '4.6', '4.60', 3.7000000000000006, '0.4', '3.20', '3.5', '0.93', '3.30', '1.90', 0.3, '6.70', '6', '6.7', '0.20', 4.1, 4.6, '5.20', 5.1, '6.6', '7.60', 5.6, '3.7', 6.1, 0.05, 7.6, 7.1, '6.5', 1.1, '0.5', '3.90', '8.9', 3.1, '4.9', '2.90', '0.6', '3.3', '7', '6.2', 0.96, '1', '1.44', '1.30', '2.2', '3.2', 3.6000000000000005, '2.3', '0.69', '2.30', '2.20', '5.60', '2.60', 6.6000000000000005, '6.60', '8.60', '2.1', '3', '0.2', '7.30', '?', '2.7', '4.5'}\n",
            "TT4_measured :  {'f', 'y', 't', 'n'}\n",
            "TT4 :  {0.5, 1.0, 2.8, '228', 3.2, 5.0, 6.3, 7.7, 8.6, 8.7, 10.2, 7.3, 12.0, 13.900000000000002, 14.3, '45', 12.8, 12.4, 9.8, 11.3, 11.4, 13.600000000000001, 20.7, '62', 16.8, 18.0, 18.9, 25.5, 25.6, 25.2, '410', 6.0, 30.099999999999998, 25.8, 6.5, 5.5, 7.5, 1.5, '90', 37.2, 39.5, 8.5, 8.0, 43.0, 38.6, '75', 9.0, '256', 9.5, 41.0, 10.0, 10.5, 11.0, 11.5, '54', 2.5, 2.0, 12.5, '239', 60.0, 13.0, '93', '187', 13.5, 15.0, '113', 15.5, 16.0, 3.0, 16.5, 3.375, '66', 17.0, 17.5, 18.5, 19.5, 19.0, 7.000000000000001, 20.0, 20.5, 21.0, '72', 4.5, 4.0, '120', 22.0, 22.5, '9', 23.0, '278', 23.5, 24.0, 24.5, '164', 25.0, '126', '165', 0.25, '22', '105', '283', '177', '141', 14.000000000000002, '273', '101', '372', 0.41900000000000004, 1.8000000000000003, '131', '230', '282', '67', '253', '106', '9.5', '109', '65', '79', '600', '53', '135', '272', '19', '244', 14.099999999999998, '181', '35', '211', '257', '167', '55', '13', '128', '9.7', '114', '8.6', '40', '88', '39', 0.3, '6', 28.000000000000004, 4.6, 4.1, 5.6, 5.1, 6.1, 7.6, 7.1, 8.1, '3.90', 9.1, 9.6, 10.6, 10.1, '158', 11.118, 11.6, '64', 11.1, 12.1, 12.6, 14.6, '16', 15.6, 15.1, 3.6000000000000005, '2.3', '155', '117', '268', 6.6000000000000005, '70', '6.60', '3', '170', '7.30', '12', '201', '60', 1.3, '150', '23', '308', '156', '58', '213', '237', '48', '111', '7.5', 9.158999999999999, '119', 13.100000000000001, '202', '186', '87', 16.1, 16.6, 17.1, '210', 17.6, '59', 18.6, 18.1, 19.6, 19.1, 20.6, 20.1, 1.9, 21.1, 21.6, 22.6, 22.1, '107', 23.1, 23.6, 24.6, '183', '103', '426', '195', 26.1, '4', '197', '57', '9.70', '189', '80', '296', 13.699999999999998, '221', '92', '94', '359', '132', '269', '222', '140', '83', '275', '76', '130', '14', 0.6, 0.406, '219', '198', '30', '3.9', '218', '134', '52', '386', 8.2, '242', 9.7, 9.2, 10.7, 11.2, '84', 11.7, 12.2, 12.7, '220', '287', '204', 14.2, 14.7, 1.7000000000000002, '430', 15.7, 15.2, '169', '232', 2.2, 16.7, 16.2, 2.7, 4.7, 17.2, 4.2, 17.7, '190', 5.2, 18.7, 5.7, 18.2, '154', '49', 19.7, 6.2, '42', 19.2, 6.7, 20.2, 21.7, 21.2, '138', 22.2, '173', 23.2, 23.7, 25.7, '215', '100', 29.2, '6.6', 7.200000000000001, '196', '2.90', '73', '241', '32', 13.200000000000001, '118', '89', '226', '5.8', '8.60', '194', '?', '153', 0.48, 1.4, 2.9, '91', 3.9, 3.3000000000000003, 3.7000000000000006, 3.5000000000000004, 2.1, 3.1, 1.6, 2.4, 3.121, '223', '50', '267', '4.10', '171', '74', '36', '37', '29', '246', '4.8', '142', 0.839, '18', '77', '2.5', '10', '124', 27.200000000000003, '205', '7.6', '20', '15', '209', '4.06', '212', '115', '162', '82', 15.299999999999999, 2.3, '129', 3.8, '143', '145', 4.8, 4.3, '261', 5.3, 5.8, 7.8, '127', '184', '5', '260', 0.4, '8.1', '5.3', '161', '33', '85', '188', 6.800000000000001, 8.3, 8.8, 9.3, 9.663, 10.8, 10.3, '252', 11.8, '224', 12.3, 13.3, 13.8, '203', '28', '96', 15.8, 16.3, '68', '46', '238', 17.3, 17.8, 18.3, 18.8, 19.8, 19.3, '258', '159', 20.3, 20.8, '61', 21.3, 22.3, 22.8, 23.3, '263', 23.8, 24.8, 25.3, '250', '71', '151', '254', 26.3, 27.3, '174', '69', '25', '247', '450', '102', '249', '149', 1.1, '38', 14.800000000000002, '121', '8.4', '157', '233', '144', '152', '240', '255', '11', 0.95, 1.2, '97', '192', '292', '4.2', '2', '200', '51', '123', '185', 14.899999999999999, '234', '8.10', 16.4, 16.9, 17.9, 17.4, 18.4, 19.9, 19.4, '182', 20.9, 20.4, 21.4, '166', 21.9, 22.4, '289', 23.9, 23.4, 24.4, 24.9, 0.2, '245', '137', '225', 27.800000000000004, 28.9, '395', 3.4000000000000004, 4.4, 4.9, '214', '236', 5.9, 5.4, 6.9, 6.4, '99', '2.9', 7.9, '172', 8.9, 8.4, '217', 9.4, 9.9, 10.4, 10.9, '396', '136', 11.9, 11.329000000000002, 12.9, 13.4, '122', 15.9, 15.4, '108', '147', '302', 7.400000000000001, '125', '81', '4.1', '248', '110', 0.58, '168', '21', '133', '44', '191', '95', '17', '47', '63', '5.30', '178', '231', '56', '41', '193', '31', 14.400000000000002, '139', '176', '207', '24', '148', '208', '104', '180', '98', 0.29, '86', '7.60', '280', '175', '333', '146', '301', '199', '235', 14.499999999999998, '206', '216', '160', '2.30', '34', '112', '27', '78', '43', '179', '7.50', '163', '116'}\n",
            "T4U_measured :  {'f', 'y', 't', 'n'}\n",
            "T4U :  {1.7000000000000002, 2.8, 3.6000000000000005, 4.9, 5.8, 6.4, 7.000000000000001, '0.33', 8.2, 9.0, 10.4, 10.9, 13.3, 13.100000000000001, 12.8, 11.6, 15.7, 16.6, 15.5, 17.5, 18.2, 13.600000000000001, 14.899999999999999, 15.0, 16.5, 5.0, 19.4, 19.7, 23.2, 21.0, 6.0, 6.5, '1.64', '1.77', '1.69', '0.58', 7.5, 8.5, 8.0, 9.5, 10.0, '1.62', 11.0, 11.5, 2.5, 12.0, '1.65', 12.5, 13.5, 13.0, '1.39', 16.0, 17.0, 18.0, '0.31', '1.82', 19.5, 20.0, 4.5, 21.5, '2.03', '0.61', '1.20', '0', '0.82', 5.5, '2.12', '0.77', '1.3', '1.50', '1.70', '0.49', '0.3', '0.30', '1.89', '0.9', '0.68', 14.000000000000002, '1.83', '0.55', '1.45', '1.15', '1.93', '1.10', '1.5', '0.41', '1.16', '1.58', '1.73', '1.2', '0.40', '0.90', '1.46', '1.66', 14.099999999999998, '0.48', '1.54', '0.72', '0.93', '0.17', 4.1, 4.6, '0.95', 5.6, 5.1, 6.1, '1.51', 7.1, 7.6, '0.5', 8.6, 8.1, '0.94', 9.1, 9.6, 10.1, 11.1, '0.6', 12.6, 12.1, 14.6, '1.78', 15.1, 15.6, '1.43', '1.33', 6.6000000000000005, '0.2', '2.32', '1.4', '1.8', '1.87', '0.80', '1.22', '0.25', '1.25', '1.38', '0.56', 16.1, '0.62', '0.63', '1.42', 17.6, 17.1, 18.1, 20.1, 21.6, '0.59', '1.27', '0.73', '1.86', '1.48', '1.31', '0.60', 13.699999999999998, '0.37', '1.6', '2.02', '0.53', '1.57', '1.76', '0.28', '0.29', '1.53', '0.79', 8.7, '1.07', 9.2, 9.7, '0.85', 10.2, 10.7, 11.2, '1.40', 12.2, 12.7, '1.12', 14.2, 14.7, '0.89', 15.2, 3.2, 16.7, 16.2, 4.7, 17.7, 4.2, '0.70', 5.2, 5.7, 18.7, 6.2, 6.7, 7.7, 20.2, '0.76', '0.97', '0.38', 7.200000000000001, '1.36', 13.200000000000001, '1.44', '0.64', '0.81', '0.74', '1.94', '0.78', '?', '1.47', 1.9, '0.32', 3.1, 3.7000000000000006, '1.7', '1.80', '1.96', '1.24', '0.86', '2.33', '0.98', '1.19', '1.41', '1.17', '0.19', '1.09', '1.1', '1.75', '0.45', '1.74', '1.79', 15.299999999999999, '0.99', 3.8, 4.8, '2.15', 6.3, '2.01', 7.8, 7.3, '1.55', '0.7', '1.28', '0.944', 6.800000000000001, '1.06', '1.56', 8.8, 8.3, '1.84', 9.3, 9.8, 10.8, 10.3, 11.3, 12.3, 13.8, '0.51', 14.3, '1.32', '0.52', 15.8, 16.3, 16.8, '0.34', 17.3, 17.8, 18.3, 18.8, 19.3, 20.3, '0.87', '0.54', '1.61', 23.3, '1.71', '1.97', '0.42', '0.67', '1.52', '1.67', 14.800000000000002, '1.08', '1.34', '1.04', '1.05', '0.47', '0.27', '0.57', '2', '0.83', '1.59', '0.84', '0.35', 16.9, 16.4, 17.4, 17.9, 18.4, 18.9, '0.91', '0.71', '0.96', '1.26', 4.4, 5.4, 6.9, 7.9, 8.4, 8.9, 9.9, 9.4, '0.65', 11.9, 11.4, '1.35', 12.4, 12.9, 13.4, '1.68', 15.9, '0.36', 15.4, '0.50', '1.95', 7.400000000000001, '1.18', '0.66', '0.92', '1.03', '1.29', '1.37', '2.21', '0.8', 13.900000000000002, 14.400000000000002, '2.16', '1.14', '0.44', '1.88', '1.49', '0.4', '1.02', '1.63', '0.88', '0.20', '0.75', '0.46', '1.01', '1.13', '1.21', '1.11', '1', 14.499999999999998, '1.30', '0.69', '1.23', '1.81', '1.72'}\n",
            "FTI_measured :  {'f', 'y', 't', 'n'}\n",
            "FTI :  {0.54, 1.0, 2.8, '228', 4.8, 5.8, 6.6000000000000005, 7.8, 8.5, 8.0, 10.8, 11.0, 12.3, 12.1, 14.6, '45', 15.299999999999999, 9.7, 9.8, 11.5, 11.1, 12.6, 13.699999999999998, '62', 21.7, 17.7, 24.4, 18.2, 28.300000000000004, 22.2, 22.7, 6.0, 6.5, 5.5, 31.2, 27.399999999999995, 7.5, 7.7620000000000005, '274', '90', '378', 39.5, 34.9, 36.2, 44.5, '75', 9.5, '256', 9.0, 9.375, 9.274000000000001, 10.5, 10.0, 10.088999999999999, '8.90', 9.875, 2.0, 11.225999999999999, '54', 10.082999999999998, 54.6, 12.0, '239', 61.199999999999996, 12.5, 2.5, 13.5, '93', '187', 13.0, 64.2, 14.137, 15.0, '113', 15.5, 15.695999999999998, 15.488, '271', 16.0, 16.5, '66', 17.5, 17.0, 18.0, 18.5, 18.399, 19.5, 19.0, 19.542, 7.000000000000001, 20.5, 20.0, 7.457999999999999, 4.0, '72', 2.217, 21.0, 21.5, '120', 22.0, 4.5, 21.516999999999996, '9', 23.5, 24.5, '164', '0', 25.5, 5.0, 26.5, '126', '316', '741', '165', 1.5, 0.25, 0.5, 32.5, '22', '105', '711', 10.107000000000001, '26', 10.290999999999999, '283', 12.784999999999998, 12.577, '177', '141', 14.000000000000002, '273', '329', '101', 11.018, 1.8000000000000003, '131', '67', '347', 0.5579999999999999, 0.5499999999999999, '253', '262', '106', '109', '65', '79', 7.172000000000001, '53', '135', '272', 8.523, '19', '428', '5.5', '8.50', 10.041, 11.434000000000001, '244', 14.099999999999998, '181', 3.2489999999999997, '35', '8.299999', '211', '257', 7.392, '55', '167', '13', '128', '114', '40', '88', '39', 0.3, '6', 28.000000000000004, 4.6, 4.1, 5.1, 5.6, 6.1, 6.35, 6.493, 7.1, 7.6, 7.380000000000001, 8.6, 8.1, 8.731, '356', 9.475, 9.1, 9.6, '550', 10.6, 10.1, '158', 10.987, 11.6, 11.088, '64', 11.642000000000001, 14.112, '16', 15.1, 15.6, 3.6000000000000005, '4.15', '155', '117', '268', 6.451, '70', '6.60', '3', '170', '288', '370', '12', '201', '60', '4.5', 0.76, 1.3, '150', 0.909, '1.4', '23', '308', '156', '237', '58', '213', '48', '111', '7.5', 8.165, 8.939, 9.777999999999999, 10.189, 11.207, 11.29, '119', 12.265999999999998, '3.4', 12.058, 12.552, '325', '7.20', 13.600000000000001, 13.100000000000001, 14.515999999999998, 14.015999999999998, '202', '186', '87', 16.6, 16.1, 17.6, '210', 17.1, 17.641, '59', 18.6, 18.1, 17.54, 19.1, 19.6, 7.796, 20.6, 1.4, 1.9, '3.1', 20.1, 21.6, 2.9, 2.4, 21.1, 22.1, 3.9, 22.6, '107', 23.6, '9.099999', '337', 23.1, 24.1, '183', '103', 25.1, '195', 26.6, '4', 28.1, '197', '57', '332', '189', 32.1, 8.266, 8.004, '80', 9.879, 9.677000000000001, 9.623, 35.6, 11.391, 13.409, 14.314000000000002, '221', '92', '305', '94', '359', '132', '702', '222', 7.492, '140', '83', '251', 2.983, 4.6370000000000005, '76', '130', '14', 0.914, 0.8290000000000001, '219', '9.1', '198', '5.4', '218', '134', '52', 8.2, 8.7, 8.212, '242', '634', 9.2, 9.562999999999999, 10.2, 10.7, 10.706, 11.2, '84', 11.7, '1.40', '8.70', 12.7, 12.2, 12.474, '220', 13.617, '204', 14.7, 14.2, 1.7000000000000002, 14.760000000000002, 2.7, 15.2, 15.7, '169', '232', 3.2, 16.2, 16.7, 2.2, 4.2, '312', 17.2, 4.7, '190', 5.2, 18.7, 5.7, '695', '154', '49', 6.2, 19.7, '42', 6.7, 7.7, 20.7, 7.587000000000001, 19.2, 20.2, '138', '173', 23.2, 23.7, 24.7, 24.2, '881', 0.31, '215', '100', 29.100000000000005, 29.7, '6.6', '345', '482', 7.200000000000001, '196', '8.9', 11.490999999999998, 11.688, '73', '241', '32', 13.200000000000001, '118', 14.615999999999998, '89', '369', '226', '290', '194', '153', '?', '265', 0.8500000000000001, 1.1, 2.6, '91', 3.5000000000000004, 2.1, 3.7000000000000006, '7.2', '266', 1.347, 3.528, 3.3000000000000003, 3.225, '223', 5.509, '50', '229', '171', '74', '36', '37', 8.366, 9.771, 10.914000000000001, 10.878, '29', 11.122, '246', 12.680999999999997, 13.003, 15.384, '142', 18.503, 6.854, 6.692999999999999, 0.839, 20.061999999999998, '18', '264', '77', '2.5', '349', 0.38399999999999995, '10', 26.200000000000003, '124', '205', 29.799999999999997, '615', 6.955, '7.6', '20', '485', 7.068, 33.2, 8.467, 8.568, '281', '15', 9.979000000000001, 9.937, '209', 10.08, 10.181, 10.187, 11.693, 11.592, 11.400999999999998, 37.8, 11.33, '227', '212', '115', '82', '162', '355', 2.3, 15.592, '129', 3.8, '143', '145', 4.3, '650', 5.3, 5.925, 6.3, '291', 7.3, '127', '184', '5', 0.4, '2.4', 0.485, '161', '33', '85', '188', 6.800000000000001, 8.3, 8.77, 8.8, 8.669, 9.3, 10.3, '546', 10.383, 10.282, 10.669, 11.3, 11.8, 11.895, '224', 11.794, 12.8, '3.84', 11.745999999999999, 11.776, 11.538, 13.8, 13.3, '203', 13.407, '28', '96', 14.3, 14.449000000000002, 15.8, 16.3, 16.8, 16.532, '68', '46', '238', 17.3, 17.8, 18.8, 18.3, 19.8, 19.3, '258', '159', 20.3, '8.7', 7.739999999999999, '61', 21.3, 21.8, 22.8, 22.3, 23.8, '263', 23.3, 24.3, 25.3, '250', 0.27999999999999997, '71', 25.8, '151', '254', 26.8, 27.3, '174', '69', '25', '247', '450', '102', '4.85', '249', '149', 1.6, 8.627, 9.728, 3.1, '470', '7', '38', '445', 13.097, 14.800000000000002, '121', '8.4', '157', '233', '144', '299', '152', '240', '255', '11', 0.7, 0.889, 0.9000000000000001, 0.24, 1.2, 0.8699999999999999, 0.44999999999999996, '97', '192', '642', '2.80', '292', 6.792999999999999, '2', 7.692, 7.192, 10.395, '200', 9.043, '51', '123', '185', 11.954, '612', 13.103000000000002, 13.305, 14.899999999999999, 14.817, '334', 16.4, 16.9, 16.216, 16.424, '354', 17.4, 17.9, 17.567, 17.359, 18.4, 18.9, 19.4, 19.9, 19.125999999999998, '182', 20.9, '297', 20.4, 21.4, '166', 21.9, 22.4, 23.9, 24.9, '519', 25.4, 0.2, '245', '137', 28.800000000000004, '395', 3.4000000000000004, 4.9, '214', '236', 5.9, 5.4, 6.9, 6.4, '99', 32.9, 7.9, 7.531000000000001, '172', 33.4, 8.4, 8.9, '8.40', '217', 9.4, 9.9, 9.15, 10.9, 10.482999999999999, 10.4, 36.9, '136', 11.4, 11.9, 12.4, 12.9, 12.787, 12.162, 13.4, '122', '5.50', 15.4, 15.9, '362', '108', '147', 5.745, '298', 7.400000000000001, 7.358, 7.483, '125', '81', '839', '259', '248', '852', '110', 51.9, '168', '21', '133', '44', '191', '243', '95', '17', '47', '63', 8.971, 8.870000000000001, 8.315999999999999, 8.108, 9.09, 10.489, 10.584, 10.602, '178', 11.995000000000001, '231', '8.5', '56', 12.370000000000001, '41', 13.900000000000002, 13.608, '193', '31', 13.721, 14.400000000000002, 15.072, '2.8', '139', 17.035999999999998, '176', '321', '207', 18.346, '24', 19.334, '148', '3.40', '208', '104', '180', '3.5', '98', 25.900000000000002, 0.415, '86', 26.400000000000002, 28.999999999999996, 3.042, '280', 6.548, 7.661, '175', 9.173, 9.667, 10.685, 10.81, '146', 12.298, '199', '235', 13.81, 13.709000000000001, 14.499999999999998, 14.011999999999999, 14.864000000000003, '206', 14.249999999999998, '216', '160', 15.28, 4.5360000000000005, '34', '179', '27', '78', '112', '43', '7.50', 6.149, 7.792000000000001, '163', '116'}\n",
            "TBG_measured :  {nan, 't', 'n', 'y', 'f'}\n",
            "TBG :  {nan, '23', '45', '48', '50', '90', '36', '37', '200', '51', '29', '54', '3.1', '72', '18', '0', '10', '20', '22', '8.40', '15', '80', '26', '122', '108', '3.10', '14', '110', '9.299999', '21', '106', '30', '65', '33', '44', '17', '52', '53', '63', '135', '47', '19', '8.50', '41', '31', '28', '96', '35', '0.15', '46', '190', '24', '49', '0.1', '8.799999', '13', '114', '40', '39', '86', '100', '69', '25', '9.599999', '4.9', '9.30', '38', '32', '16', '8.4', '34', '27', '43', '116', '7.30', '?', '12', '11'}\n",
            "referral_source :  {nan, 'other', 'SVI', 'SVHC', 'STMW', 'WEST', 'SVHD'}\n",
            "Target :  {'hyperthyroid', 'negative', 'hypothyroid'}\n"
          ]
        }
      ]
    },
    {
      "cell_type": "markdown",
      "metadata": {
        "id": "oIbQRIy6wdpc"
      },
      "source": [
        "replace '?' with 'nan'"
      ]
    },
    {
      "cell_type": "code",
      "metadata": {
        "colab": {
          "base_uri": "https://localhost:8080/"
        },
        "id": "jHjW7CLEv9PC",
        "outputId": "9fab7f23-2e5b-43db-ed5b-79992a8d0a58"
      },
      "source": [
        "data=data.replace({\"?\":np.NAN})\n",
        "data.isna().sum()\n"
      ],
      "execution_count": 27,
      "outputs": [
        {
          "output_type": "execute_result",
          "data": {
            "text/plain": [
              "age                            409\n",
              "sex                            394\n",
              "on_thyroxine                     0\n",
              "query_on_thyroxine               0\n",
              "on_antithyroid_medication        0\n",
              "sick                             0\n",
              "pregnant                         0\n",
              "thyroid_surgery                  0\n",
              "I131_treatment                3021\n",
              "query_hypothyroid                0\n",
              "query_hyperthyroid               0\n",
              "lithium                          0\n",
              "goitre                           0\n",
              "tumor                            0\n",
              "hypopituitary                 3021\n",
              "psych                         3021\n",
              "TSH_measured                     0\n",
              "TSH                           1321\n",
              "T3_measured                      0\n",
              "T3                            3372\n",
              "TT4_measured                     0\n",
              "TT4                            696\n",
              "T4U_measured                     0\n",
              "T4U                           1083\n",
              "FTI_measured                     0\n",
              "FTI                           1075\n",
              "TBG_measured                  7200\n",
              "TBG                          19174\n",
              "referral_source              10221\n",
              "Target                           0\n",
              "dtype: int64"
            ]
          },
          "metadata": {},
          "execution_count": 27
        }
      ]
    },
    {
      "cell_type": "markdown",
      "metadata": {
        "id": "mprlSQszxus7"
      },
      "source": [
        "'TBG', 'referral_source' and 'TBG_measured' attributes have too many nan values.\n",
        "\n",
        "so,we have to drop them along with 'sex' attribute."
      ]
    },
    {
      "cell_type": "code",
      "metadata": {
        "id": "mFiR6mgQw4G2"
      },
      "source": [
        "del data['TBG']\n",
        "del data['referral_source']\n",
        "del data['TBG_measured']\n",
        "del data['sex']"
      ],
      "execution_count": 28,
      "outputs": []
    },
    {
      "cell_type": "markdown",
      "metadata": {
        "id": "0R8rhLYxzOc0"
      },
      "source": [
        "we can have maximum nine nan values in a row, so I will drop all the rows with more than five nan values because they present very few data and aren't good enough for the classification"
      ]
    },
    {
      "cell_type": "code",
      "metadata": {
        "colab": {
          "base_uri": "https://localhost:8080/"
        },
        "id": "FcFjG2TiyMMh",
        "outputId": "43fb199d-6be8-457e-c48e-99387b4a5ac1"
      },
      "source": [
        "data.dropna(axis = 0, thresh = 20, inplace = True)\n",
        "data.isna().sum()"
      ],
      "execution_count": 29,
      "outputs": [
        {
          "output_type": "execute_result",
          "data": {
            "text/plain": [
              "age                           380\n",
              "on_thyroxine                    0\n",
              "query_on_thyroxine              0\n",
              "on_antithyroid_medication       0\n",
              "sick                            0\n",
              "pregnant                        0\n",
              "thyroid_surgery                 0\n",
              "I131_treatment               2773\n",
              "query_hypothyroid               0\n",
              "query_hyperthyroid              0\n",
              "lithium                         0\n",
              "goitre                          0\n",
              "tumor                           0\n",
              "hypopituitary                2773\n",
              "psych                        2773\n",
              "TSH_measured                    0\n",
              "TSH                          1074\n",
              "T3_measured                     0\n",
              "T3                           3125\n",
              "TT4_measured                    0\n",
              "TT4                           448\n",
              "T4U_measured                    0\n",
              "T4U                           835\n",
              "FTI_measured                    0\n",
              "FTI                           828\n",
              "Target                          0\n",
              "dtype: int64"
            ]
          },
          "metadata": {},
          "execution_count": 29
        }
      ]
    },
    {
      "cell_type": "markdown",
      "metadata": {
        "id": "0wufLzpE034W"
      },
      "source": [
        "Convert the categorical values into numerical values, because for the classification it is important that the dataset has only numerical attributes."
      ]
    },
    {
      "cell_type": "code",
      "metadata": {
        "colab": {
          "base_uri": "https://localhost:8080/",
          "height": 486
        },
        "id": "q1gr2Wtw1snZ",
        "outputId": "537c9700-93ef-4253-9493-843734b38094"
      },
      "source": [
        "data = data.replace({\"t\":1,\"f\":0, \"y\":1, \"n\":0, \"hypothyroid\":2, \"negative\":0,\"hyperthyroid\":1, \"F\":1, \"M\":0})\n",
        "display(data.dtypes)"
      ],
      "execution_count": 30,
      "outputs": [
        {
          "output_type": "display_data",
          "data": {
            "text/plain": [
              "age                           object\n",
              "on_thyroxine                   int64\n",
              "query_on_thyroxine             int64\n",
              "on_antithyroid_medication      int64\n",
              "sick                           int64\n",
              "pregnant                       int64\n",
              "thyroid_surgery                int64\n",
              "I131_treatment               float64\n",
              "query_hypothyroid              int64\n",
              "query_hyperthyroid             int64\n",
              "lithium                        int64\n",
              "goitre                         int64\n",
              "tumor                          int64\n",
              "hypopituitary                float64\n",
              "psych                        float64\n",
              "TSH_measured                   int64\n",
              "TSH                           object\n",
              "T3_measured                    int64\n",
              "T3                            object\n",
              "TT4_measured                   int64\n",
              "TT4                           object\n",
              "T4U_measured                   int64\n",
              "T4U                           object\n",
              "FTI_measured                   int64\n",
              "FTI                           object\n",
              "Target                         int64\n",
              "dtype: object"
            ]
          },
          "metadata": {}
        }
      ]
    },
    {
      "cell_type": "markdown",
      "metadata": {
        "id": "56J1qFxY3g4t"
      },
      "source": [
        "convert object datatype to numeric"
      ]
    },
    {
      "cell_type": "code",
      "metadata": {
        "colab": {
          "base_uri": "https://localhost:8080/",
          "height": 486
        },
        "id": "rq2SFTCv2ooe",
        "outputId": "8b6572d2-f18d-4c40-a8b6-1792fc121cc2"
      },
      "source": [
        "cols = data.columns[data.dtypes.eq('object')]\n",
        "data[cols] = data[cols].apply(pd.to_numeric, errors='coerce')\n",
        "display(data.dtypes)"
      ],
      "execution_count": 31,
      "outputs": [
        {
          "output_type": "display_data",
          "data": {
            "text/plain": [
              "age                          float64\n",
              "on_thyroxine                   int64\n",
              "query_on_thyroxine             int64\n",
              "on_antithyroid_medication      int64\n",
              "sick                           int64\n",
              "pregnant                       int64\n",
              "thyroid_surgery                int64\n",
              "I131_treatment               float64\n",
              "query_hypothyroid              int64\n",
              "query_hyperthyroid             int64\n",
              "lithium                        int64\n",
              "goitre                         int64\n",
              "tumor                          int64\n",
              "hypopituitary                float64\n",
              "psych                        float64\n",
              "TSH_measured                   int64\n",
              "TSH                          float64\n",
              "T3_measured                    int64\n",
              "T3                           float64\n",
              "TT4_measured                   int64\n",
              "TT4                          float64\n",
              "T4U_measured                   int64\n",
              "T4U                          float64\n",
              "FTI_measured                   int64\n",
              "FTI                          float64\n",
              "Target                         int64\n",
              "dtype: object"
            ]
          },
          "metadata": {}
        }
      ]
    },
    {
      "cell_type": "code",
      "metadata": {
        "id": "XqMY_X1-3dlN"
      },
      "source": [
        "data.to_csv('final_dataset.csv')"
      ],
      "execution_count": 32,
      "outputs": []
    },
    {
      "cell_type": "markdown",
      "metadata": {
        "id": "FywWKBMO5bwK"
      },
      "source": [
        "**3: Training of the Classifiers**"
      ]
    },
    {
      "cell_type": "markdown",
      "metadata": {
        "id": "qn2Y_uIsMUoY"
      },
      "source": [
        "firstly, we have to find the attributes which are most related to the target."
      ]
    },
    {
      "cell_type": "code",
      "metadata": {
        "colab": {
          "base_uri": "https://localhost:8080/"
        },
        "id": "48ttJfEJ5RBA",
        "outputId": "359b8dad-77a3-4baa-ed3c-0fddc5e75df9"
      },
      "source": [
        "data.info()"
      ],
      "execution_count": 33,
      "outputs": [
        {
          "output_type": "stream",
          "name": "stdout",
          "text": [
            "<class 'pandas.core.frame.DataFrame'>\n",
            "Int64Index: 19538 entries, 0 to 19785\n",
            "Data columns (total 26 columns):\n",
            " #   Column                     Non-Null Count  Dtype  \n",
            "---  ------                     --------------  -----  \n",
            " 0   age                        19158 non-null  float64\n",
            " 1   on_thyroxine               19538 non-null  int64  \n",
            " 2   query_on_thyroxine         19538 non-null  int64  \n",
            " 3   on_antithyroid_medication  19538 non-null  int64  \n",
            " 4   sick                       19538 non-null  int64  \n",
            " 5   pregnant                   19538 non-null  int64  \n",
            " 6   thyroid_surgery            19538 non-null  int64  \n",
            " 7   I131_treatment             16765 non-null  float64\n",
            " 8   query_hypothyroid          19538 non-null  int64  \n",
            " 9   query_hyperthyroid         19538 non-null  int64  \n",
            " 10  lithium                    19538 non-null  int64  \n",
            " 11  goitre                     19538 non-null  int64  \n",
            " 12  tumor                      19538 non-null  int64  \n",
            " 13  hypopituitary              16765 non-null  float64\n",
            " 14  psych                      16765 non-null  float64\n",
            " 15  TSH_measured               19538 non-null  int64  \n",
            " 16  TSH                        18464 non-null  float64\n",
            " 17  T3_measured                19538 non-null  int64  \n",
            " 18  T3                         16413 non-null  float64\n",
            " 19  TT4_measured               19538 non-null  int64  \n",
            " 20  TT4                        19090 non-null  float64\n",
            " 21  T4U_measured               19538 non-null  int64  \n",
            " 22  T4U                        18703 non-null  float64\n",
            " 23  FTI_measured               19538 non-null  int64  \n",
            " 24  FTI                        18710 non-null  float64\n",
            " 25  Target                     19538 non-null  int64  \n",
            "dtypes: float64(9), int64(17)\n",
            "memory usage: 4.0 MB\n"
          ]
        }
      ]
    },
    {
      "cell_type": "code",
      "metadata": {
        "colab": {
          "base_uri": "https://localhost:8080/",
          "height": 190
        },
        "id": "CI2HWjPsM1J6",
        "outputId": "54e9572e-f003-46e9-eb43-aac16f7d1d1d"
      },
      "source": [
        "corr_values = abs(data[data.columns[0:]].corr()['Target'][:])\n",
        "corr_values = corr_values.drop('Target')\n",
        "corr_values = corr_values[corr_values > 0.04]\n",
        "display(corr_values)\n"
      ],
      "execution_count": 34,
      "outputs": [
        {
          "output_type": "display_data",
          "data": {
            "text/plain": [
              "on_thyroxine         0.089933\n",
              "query_hypothyroid    0.072636\n",
              "psych                0.043933\n",
              "TSH_measured         0.057784\n",
              "TSH                  0.359483\n",
              "T3                   0.100027\n",
              "TT4                  0.061453\n",
              "T4U                  0.055530\n",
              "FTI                  0.060555\n",
              "Name: Target, dtype: float64"
            ]
          },
          "metadata": {}
        }
      ]
    },
    {
      "cell_type": "markdown",
      "metadata": {
        "id": "CEZ_BabKRktS"
      },
      "source": [
        "Now, divide the dataset into two sets: \n",
        "\n",
        "training set and \n",
        "\n",
        "the testing set."
      ]
    },
    {
      "cell_type": "code",
      "metadata": {
        "colab": {
          "base_uri": "https://localhost:8080/"
        },
        "id": "NZEAHoE0RkLJ",
        "outputId": "1d4f2451-79a8-4b7a-be1e-1ed7d8b89a4c"
      },
      "source": [
        "corr_values.index"
      ],
      "execution_count": 35,
      "outputs": [
        {
          "output_type": "execute_result",
          "data": {
            "text/plain": [
              "Index(['on_thyroxine', 'query_hypothyroid', 'psych', 'TSH_measured', 'TSH',\n",
              "       'T3', 'TT4', 'T4U', 'FTI'],\n",
              "      dtype='object')"
            ]
          },
          "metadata": {},
          "execution_count": 35
        }
      ]
    },
    {
      "cell_type": "code",
      "metadata": {
        "id": "YO0vXFWrNjwF"
      },
      "source": [
        "def holdout(dataframe):\n",
        "  x = dataframe[['age','on_thyroxine', 'query_hypothyroid', 'query_hyperthyroid', 'psych',\n",
        "       'TSH', 'FTI']]\n",
        "  y = dataframe['Target']\n",
        "  X_train, X_test, y_train, y_test = train_test_split(x, y, test_size=0.30, random_state=42) \n",
        "  return X_train, X_test, y_train, y_test\n",
        "\n",
        "X_train, X_test, y_train, y_test = holdout(data)"
      ],
      "execution_count": 38,
      "outputs": []
    },
    {
      "cell_type": "code",
      "metadata": {
        "colab": {
          "base_uri": "https://localhost:8080/",
          "height": 486
        },
        "id": "5_COGTJWTn07",
        "outputId": "d8ca9043-d723-49b1-bcba-8acb6dfd3bdc"
      },
      "source": [
        "data1 = data.interpolate(method = 'spline', order = 3)\n",
        "display(data1.isna().sum())"
      ],
      "execution_count": 39,
      "outputs": [
        {
          "output_type": "display_data",
          "data": {
            "text/plain": [
              "age                          0\n",
              "on_thyroxine                 0\n",
              "query_on_thyroxine           0\n",
              "on_antithyroid_medication    0\n",
              "sick                         0\n",
              "pregnant                     0\n",
              "thyroid_surgery              0\n",
              "I131_treatment               0\n",
              "query_hypothyroid            0\n",
              "query_hyperthyroid           0\n",
              "lithium                      0\n",
              "goitre                       0\n",
              "tumor                        0\n",
              "hypopituitary                0\n",
              "psych                        0\n",
              "TSH_measured                 0\n",
              "TSH                          0\n",
              "T3_measured                  0\n",
              "T3                           0\n",
              "TT4_measured                 0\n",
              "TT4                          0\n",
              "T4U_measured                 0\n",
              "T4U                          0\n",
              "FTI_measured                 0\n",
              "FTI                          0\n",
              "Target                       0\n",
              "dtype: int64"
            ]
          },
          "metadata": {}
        }
      ]
    },
    {
      "cell_type": "code",
      "metadata": {
        "id": "dDr5TiG6TqWP"
      },
      "source": [
        "classifiers1 = {\n",
        "    \"XGBClassifier\" : XGBClassifier(learning_rate=0.01),\n",
        "    \"Nearest Neighbors\" : KNeighborsClassifier(4),\n",
        "    \"Decision Tree\" : DecisionTreeClassifier(class_weight = 'balanced'),\n",
        "    \"Random Forest\": RandomForestClassifier(class_weight = 'balanced',random_state = 1),\n",
        "}"
      ],
      "execution_count": 46,
      "outputs": []
    },
    {
      "cell_type": "code",
      "metadata": {
        "id": "hoHl5J-kT9B9"
      },
      "source": [
        "def classification(classifiers, X_train, X_test, y_train, y_test):\n",
        "    # Creo un dataframe per visualizzare i risultati calcolati\n",
        "  res = pd.DataFrame(columns=[\"Classifier\", \n",
        "                                \"Accuracy\", \n",
        "                                \"Precision\", \n",
        "                                \"Recall\", \n",
        "                                \"FScore\"])\n",
        "  for name, clf in classifiers.items():\n",
        "            clf.fit(X_train, y_train)\n",
        "            y_pred = clf.predict(X_test)\n",
        "            pr, rc, fs, sup = metrics.precision_recall_fscore_support(y_test, y_pred, average='macro')\n",
        "            res = res.append({\"Classifier\": name,\"Accuracy\": round(metrics.accuracy_score(y_test, y_pred), 4),\n",
        "                              \"Precision\": round(pr, 4), \"Recall\":round(rc, 4), \"FScore\":round(fs, 4)}, ignore_index=True)\n",
        "            print(\"Confusion matrix for: \", name)\n",
        "            display(confusion_matrix(y_test, y_pred))\n",
        "  res.set_index(\"FScore\", inplace=True)\n",
        "  res.sort_values(by=\"FScore\", ascending=False, inplace=True)   \n",
        "  return res"
      ],
      "execution_count": 47,
      "outputs": []
    },
    {
      "cell_type": "code",
      "metadata": {
        "colab": {
          "base_uri": "https://localhost:8080/",
          "height": 657
        },
        "id": "j4WwrKxJUBjQ",
        "outputId": "99951703-97f3-4ec2-aab3-a0df6d793c5d"
      },
      "source": [
        "corr_values = abs(data1[data1.columns[0:]].corr()['Target'][:])\n",
        "corr_values = corr_values.drop('Target')\n",
        "corr_values = corr_values[corr_values > 0.04]\n",
        "display(corr_values)\n",
        "\n",
        "X_train1, X_test1, y_train1, y_test1 = holdout(data1)\n",
        "\n",
        "display(classification(classifiers1,X_train1, X_test1, y_train1, y_test1))"
      ],
      "execution_count": 48,
      "outputs": [
        {
          "output_type": "display_data",
          "data": {
            "text/plain": [
              "on_thyroxine         0.089933\n",
              "query_hypothyroid    0.072636\n",
              "psych                0.041390\n",
              "TSH_measured         0.057784\n",
              "TSH                  0.321522\n",
              "T3                   0.092222\n",
              "TT4                  0.064251\n",
              "T4U                  0.053964\n",
              "FTI                  0.059411\n",
              "Name: Target, dtype: float64"
            ]
          },
          "metadata": {}
        },
        {
          "output_type": "stream",
          "name": "stdout",
          "text": [
            "Confusion matrix for:  XGBClassifier\n"
          ]
        },
        {
          "output_type": "display_data",
          "data": {
            "text/plain": [
              "array([[5167,   11,  101],\n",
              "       [  89,   52,    9],\n",
              "       [ 123,    1,  309]])"
            ]
          },
          "metadata": {}
        },
        {
          "output_type": "stream",
          "name": "stdout",
          "text": [
            "Confusion matrix for:  Nearest Neighbors\n"
          ]
        },
        {
          "output_type": "display_data",
          "data": {
            "text/plain": [
              "array([[5176,    8,   95],\n",
              "       [ 100,   47,    3],\n",
              "       [ 293,    3,  137]])"
            ]
          },
          "metadata": {}
        },
        {
          "output_type": "stream",
          "name": "stdout",
          "text": [
            "Confusion matrix for:  Decision Tree\n"
          ]
        },
        {
          "output_type": "display_data",
          "data": {
            "text/plain": [
              "array([[5159,   42,   78],\n",
              "       [  44,  105,    1],\n",
              "       [  63,    2,  368]])"
            ]
          },
          "metadata": {}
        },
        {
          "output_type": "stream",
          "name": "stdout",
          "text": [
            "Confusion matrix for:  Random Forest\n"
          ]
        },
        {
          "output_type": "display_data",
          "data": {
            "text/plain": [
              "array([[5170,   26,   83],\n",
              "       [  46,  102,    2],\n",
              "       [  34,    0,  399]])"
            ]
          },
          "metadata": {}
        },
        {
          "output_type": "display_data",
          "data": {
            "text/html": [
              "<div>\n",
              "<style scoped>\n",
              "    .dataframe tbody tr th:only-of-type {\n",
              "        vertical-align: middle;\n",
              "    }\n",
              "\n",
              "    .dataframe tbody tr th {\n",
              "        vertical-align: top;\n",
              "    }\n",
              "\n",
              "    .dataframe thead th {\n",
              "        text-align: right;\n",
              "    }\n",
              "</style>\n",
              "<table border=\"1\" class=\"dataframe\">\n",
              "  <thead>\n",
              "    <tr style=\"text-align: right;\">\n",
              "      <th></th>\n",
              "      <th>Classifier</th>\n",
              "      <th>Accuracy</th>\n",
              "      <th>Precision</th>\n",
              "      <th>Recall</th>\n",
              "    </tr>\n",
              "    <tr>\n",
              "      <th>FScore</th>\n",
              "      <th></th>\n",
              "      <th></th>\n",
              "      <th></th>\n",
              "      <th></th>\n",
              "    </tr>\n",
              "  </thead>\n",
              "  <tbody>\n",
              "    <tr>\n",
              "      <th>0.8620</th>\n",
              "      <td>Random Forest</td>\n",
              "      <td>0.9674</td>\n",
              "      <td>0.8687</td>\n",
              "      <td>0.8603</td>\n",
              "    </tr>\n",
              "    <tr>\n",
              "      <th>0.8391</th>\n",
              "      <td>Decision Tree</td>\n",
              "      <td>0.9608</td>\n",
              "      <td>0.8359</td>\n",
              "      <td>0.8424</td>\n",
              "    </tr>\n",
              "    <tr>\n",
              "      <th>0.7270</th>\n",
              "      <td>XGBClassifier</td>\n",
              "      <td>0.9430</td>\n",
              "      <td>0.8369</td>\n",
              "      <td>0.6797</td>\n",
              "    </tr>\n",
              "    <tr>\n",
              "      <th>0.6055</th>\n",
              "      <td>Nearest Neighbors</td>\n",
              "      <td>0.9144</td>\n",
              "      <td>0.7743</td>\n",
              "      <td>0.5367</td>\n",
              "    </tr>\n",
              "  </tbody>\n",
              "</table>\n",
              "</div>"
            ],
            "text/plain": [
              "               Classifier  Accuracy  Precision  Recall\n",
              "FScore                                                \n",
              "0.8620      Random Forest    0.9674     0.8687  0.8603\n",
              "0.8391      Decision Tree    0.9608     0.8359  0.8424\n",
              "0.7270      XGBClassifier    0.9430     0.8369  0.6797\n",
              "0.6055  Nearest Neighbors    0.9144     0.7743  0.5367"
            ]
          },
          "metadata": {}
        }
      ]
    },
    {
      "cell_type": "code",
      "metadata": {
        "colab": {
          "base_uri": "https://localhost:8080/"
        },
        "id": "AZKkQdeAUFfU",
        "outputId": "648e2fb7-a543-47aa-cb2e-7238e08f9566"
      },
      "source": [
        "model=RandomForestClassifier(class_weight = 'balanced',random_state = 1)\n",
        "model.fit(X_train1,y_train1)"
      ],
      "execution_count": 49,
      "outputs": [
        {
          "output_type": "execute_result",
          "data": {
            "text/plain": [
              "RandomForestClassifier(class_weight='balanced', random_state=1)"
            ]
          },
          "metadata": {},
          "execution_count": 49
        }
      ]
    },
    {
      "cell_type": "code",
      "metadata": {
        "colab": {
          "base_uri": "https://localhost:8080/"
        },
        "id": "75VyyVxWUIZI",
        "outputId": "56030738-30fe-458f-95f7-d25aa6c5a97e"
      },
      "source": [
        "fet=[]\n",
        "fet.append(int(40))\n",
        "fet.append(int(0))\n",
        "fet.append(int(0))\n",
        "fet.append(int(0))\n",
        "fet.append(float(0))\n",
        "fet.append(float(0.003))\n",
        "fet.append(float(0))\n",
        "model.predict([np.array(fet)])"
      ],
      "execution_count": 50,
      "outputs": [
        {
          "output_type": "stream",
          "name": "stderr",
          "text": [
            "/usr/local/lib/python3.7/dist-packages/sklearn/base.py:446: UserWarning: X does not have valid feature names, but RandomForestClassifier was fitted with feature names\n",
            "  \"X does not have valid feature names, but\"\n"
          ]
        },
        {
          "output_type": "execute_result",
          "data": {
            "text/plain": [
              "array([0])"
            ]
          },
          "metadata": {},
          "execution_count": 50
        }
      ]
    },
    {
      "cell_type": "code",
      "metadata": {
        "id": "Q-a0VaLlUPUp"
      },
      "source": [
        "import _pickle\n",
        "_pickle.dump(model,open('model.pkl','wb'))"
      ],
      "execution_count": 51,
      "outputs": []
    },
    {
      "cell_type": "code",
      "metadata": {
        "id": "EIx9GBqsJpz_"
      },
      "source": [
        ""
      ],
      "execution_count": null,
      "outputs": []
    }
  ]
}